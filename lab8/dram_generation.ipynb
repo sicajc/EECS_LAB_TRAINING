{
 "cells": [
  {
   "cell_type": "markdown",
   "metadata": {},
   "source": [
    "### Randomly Generating matrix and kernals"
   ]
  },
  {
   "cell_type": "code",
   "execution_count": 255,
   "metadata": {},
   "outputs": [],
   "source": [
    "import numpy as np\n",
    "import random\n",
    "\n",
    "A_VALUE_MAX = 4\n",
    "A_VALUE_MIN = 0\n",
    "\n",
    "B_VALUE_MAX = 8\n",
    "B_VALUE_MIN = 0\n",
    "\n",
    "MAT_SIZE = 16\n",
    "KER_SIZE = 3\n",
    "DRAM_STARTING_ADDRESS = 0x1000\n",
    "\n",
    "DRAM1_END_ADDRESS = 0x1fff\n",
    "\n",
    "DRAM_READ_INSTR_END_ADDRESS = 0x1fff\n",
    "\n",
    "DRAM_READ_MAT_START_ADDRESS = 0x2000\n",
    "DRAM_READ_MAT_END_ADDRESS = 0x2fff\n",
    "\n",
    "# mat = np.array([[rd.randint(0,PRIME-1) for i in range(size)] for j in range(size)], dtype=object)\n"
   ]
  },
  {
   "cell_type": "code",
   "execution_count": 256,
   "metadata": {},
   "outputs": [],
   "source": [
    "mat    = np.array([[random.randint(A_VALUE_MIN,A_VALUE_MAX) for i in range(MAT_SIZE)] \\\n",
    "                    for j in range(MAT_SIZE)],dtype=object)\n",
    "\n",
    "kernal = np.array([[random.randint(A_VALUE_MIN,A_VALUE_MAX) for i in range(KER_SIZE)] \\\n",
    "                    for j in range(KER_SIZE)],dtype=object)"
   ]
  },
  {
   "cell_type": "code",
   "execution_count": 257,
   "metadata": {},
   "outputs": [
    {
     "data": {
      "text/plain": [
       "array([[4, 2, 4],\n",
       "       [1, 2, 2],\n",
       "       [4, 4, 2]], dtype=object)"
      ]
     },
     "execution_count": 257,
     "metadata": {},
     "output_type": "execute_result"
    }
   ],
   "source": [
    "kernal"
   ]
  },
  {
   "cell_type": "code",
   "execution_count": 258,
   "metadata": {},
   "outputs": [],
   "source": [
    "PAT_NUM = (0x1fff - 0x1000)/4"
   ]
  },
  {
   "cell_type": "markdown",
   "metadata": {},
   "source": [
    "### Generating address for DRAM1 used for storing 32-bit matrixA data"
   ]
  },
  {
   "cell_type": "code",
   "execution_count": 259,
   "metadata": {},
   "outputs": [],
   "source": [
    "f_DRAM1 = open(\"./DRAM1.dat\", \"w\")"
   ]
  },
  {
   "cell_type": "code",
   "execution_count": 260,
   "metadata": {},
   "outputs": [],
   "source": [
    "for addr in range(DRAM_STARTING_ADDRESS,DRAM1_END_ADDRESS,4):\n",
    "    f_DRAM1.write('@' + format(addr, 'x') + '\\n')\n",
    "\n",
    "    # 32-BIT data, {: > } means right-alignement for this temp string\n",
    "    temp = '{:0>4d}'.format(random.randint(A_VALUE_MIN, A_VALUE_MAX), 'x')\n",
    "    # print(temp)\n",
    "    f_DRAM1.write( temp[3] + ' ' + temp[2] + ' ' + temp[1] + ' ' + temp[0] + '\\n' )\n",
    "\n",
    "\n",
    "f_DRAM1.close()"
   ]
  },
  {
   "cell_type": "code",
   "execution_count": 261,
   "metadata": {},
   "outputs": [
    {
     "data": {
      "text/plain": [
       "'0004'"
      ]
     },
     "execution_count": 261,
     "metadata": {},
     "output_type": "execute_result"
    }
   ],
   "source": [
    "temp"
   ]
  },
  {
   "cell_type": "markdown",
   "metadata": {},
   "source": [
    "### Generating address and data for DRAM_read instruction and MatrixB"
   ]
  },
  {
   "cell_type": "code",
   "execution_count": 262,
   "metadata": {},
   "outputs": [],
   "source": [
    "f_DRAM_read = open(\"./DRAM.dat\", \"w\")"
   ]
  },
  {
   "cell_type": "markdown",
   "metadata": {},
   "source": [
    "### Specially note that the starting position of your matrixA and matrixB is randomly chosen as long as they are within the addressable range\n",
    "\n",
    "- Why isnt the data stored in the multiple of 4? That is making it only byte addressable?"
   ]
  },
  {
   "cell_type": "code",
   "execution_count": 263,
   "metadata": {},
   "outputs": [
    {
     "data": {
      "text/plain": [
       "'0x493080bf'"
      ]
     },
     "execution_count": 263,
     "metadata": {},
     "output_type": "execute_result"
    }
   ],
   "source": [
    "for addr in range(DRAM_STARTING_ADDRESS,DRAM_READ_INSTR_END_ADDRESS,4):\n",
    "    f_DRAM_read.write('@' + format(addr, 'x') + '\\n')\n",
    "\n",
    "    # Instruction generation [31:18] matrixA starting address for DRAM1\n",
    "    # Note the generated address must be a multiple of 4\n",
    "    while True:\n",
    "        #Note the starting address of MatrixA must start from an address which contains all the \n",
    "        #16x16 32bits value, so the upper limit must be constrained by subtracting 16*16*4\n",
    "        addr = random.randint(int(DRAM_STARTING_ADDRESS),int(DRAM1_END_ADDRESS - 16*16*4))\n",
    "        # The starting address of MatrixA and MatrixB can be anywhere, as long as it is vali\n",
    "        # It does not reall has to be a multiple of 4\n",
    "        if addr % 16 == 0 or addr % 16 == 4 or addr % 16 == 8 or addr % 16 == 12 or addr % 3\\\n",
    "            or addr % 7 or addr % 9:\n",
    "            break\n",
    "    \n",
    "    dram1_matrixA_addr = addr\n",
    "    # Since upper instruction has the format [15:2](Starting address of DRAM_1) [1:0] (N/A)\n",
    "    # Thus first times 4 then convert it into bit string format of 16 bit long\n",
    "    instr_upper_16_bin = f'{addr * 4 :0>16b}'\n",
    "    \n",
    "    # [15:2] is the matrix starting address for DRAM_read\n",
    "    while True:\n",
    "        addr = random.randint(int(DRAM_READ_MAT_START_ADDRESS),int(DRAM_READ_MAT_END_ADDRESS-16*16*4))\n",
    "        if addr % 16 == 0 or addr % 16 == 4 or addr % 16 == 8 or addr % 16 == 12 \\\n",
    "        or addr % 16 == 3 or addr % 16 == 7 or addr % 16 == 11 or addr % 16 == 15:\n",
    "            break\n",
    "    \n",
    "    dram_read_matrixB_addr_bin = f'{addr:0>14b}' # conver into 14 bits representation\n",
    "\n",
    "    # [1:0] as operating mode\n",
    "    while True:\n",
    "        op = random.randint(0,3)\n",
    "        # 0 stands for matrix multiplication, 3 stands for convolution\n",
    "        if op == 0 or op == 3:\n",
    "            break\n",
    "    \n",
    "    dram_read_op_bin = f'{op:0>2b}'\n",
    "\n",
    "    # Concatenate the MatrixB starting address with op code in binary\n",
    "    instr_lower_16_bin = dram_read_matrixB_addr_bin + dram_read_op_bin\n",
    "\n",
    "    instr_bin = instr_upper_16_bin + instr_lower_16_bin\n",
    "\n",
    "    # This is the format of converting a binary format into hex format which is used extensively\n",
    "    instr_hex = hex(int(instr_bin,2))\n",
    "\n",
    "    # Note in the hex string, to select 2 char you must specify [8:10] which would selects [8] [9] of\n",
    "    # the hex string\n",
    "    f_DRAM_read.write(instr_hex[8:10] + ' ' + instr_hex[6:8] + ' ' + \\\n",
    "                       instr_hex[4:6] + ' '+ instr_hex[2:4])\n",
    "    f_DRAM_read.write('\\n')\n",
    "\n",
    "for addr in range(DRAM_READ_MAT_START_ADDRESS,DRAM_READ_MAT_END_ADDRESS,4):\n",
    "    f_DRAM_read.write('@' + format(addr, 'x') + '\\n')\n",
    "\n",
    "    # 32-BIT data, {: > } means right-alignement for this temp string\n",
    "    temp = '{:0>4d}'.format(random.randint(B_VALUE_MIN, B_VALUE_MAX), 'x')\n",
    "    # print(temp)\n",
    "    f_DRAM_read.write( temp[3] + ' ' + temp[2] + ' ' + temp[1] + ' ' + temp[0] + '\\n' )\n",
    "\n",
    "\n",
    "f_DRAM_read.close()\n",
    "# print(f\"instr_hex : {instr_hex}\")\n",
    "instr_hex"
   ]
  },
  {
   "cell_type": "code",
   "execution_count": 264,
   "metadata": {},
   "outputs": [
    {
     "data": {
      "text/plain": [
       "4684"
      ]
     },
     "execution_count": 264,
     "metadata": {},
     "output_type": "execute_result"
    }
   ],
   "source": [
    "dram1_matrixA_addr"
   ]
  },
  {
   "cell_type": "code",
   "execution_count": 265,
   "metadata": {},
   "outputs": [
    {
     "data": {
      "text/plain": [
       "'10000000101111'"
      ]
     },
     "execution_count": 265,
     "metadata": {},
     "output_type": "execute_result"
    }
   ],
   "source": [
    "dram_read_matrixB_addr_bin"
   ]
  },
  {
   "cell_type": "code",
   "execution_count": 266,
   "metadata": {},
   "outputs": [
    {
     "data": {
      "text/plain": [
       "'11'"
      ]
     },
     "execution_count": 266,
     "metadata": {},
     "output_type": "execute_result"
    }
   ],
   "source": [
    "dram_read_op_bin"
   ]
  },
  {
   "cell_type": "markdown",
   "metadata": {},
   "source": [
    "# Notes"
   ]
  },
  {
   "cell_type": "markdown",
   "metadata": {},
   "source": [
    "### Address location"
   ]
  },
  {
   "cell_type": "markdown",
   "metadata": {},
   "source": [
    "- This is for writing address location, where 'x' means converting the addr integer into hex format\n",
    "```python\n",
    "\n",
    "    f_DRAM_read.write('@' + format(addr, 'x') + '\\n')\n",
    "\n",
    "```"
   ]
  }
 ],
 "metadata": {
  "kernelspec": {
   "display_name": "Python 3",
   "language": "python",
   "name": "python3"
  },
  "language_info": {
   "codemirror_mode": {
    "name": "ipython",
    "version": 3
   },
   "file_extension": ".py",
   "mimetype": "text/x-python",
   "name": "python",
   "nbconvert_exporter": "python",
   "pygments_lexer": "ipython3",
   "version": "3.11.5"
  },
  "orig_nbformat": 4
 },
 "nbformat": 4,
 "nbformat_minor": 2
}
