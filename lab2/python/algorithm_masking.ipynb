{
 "cells": [
  {
   "cell_type": "code",
   "execution_count": 1,
   "metadata": {},
   "outputs": [],
   "source": [
    "def edge_to_aMatrix(N,edgeList):\n",
    "    graph = []\n",
    "    for i in range(N):\n",
    "        graph.append([])\n",
    "        for j in range(N):\n",
    "            graph[i].append(0)\n",
    "    \n",
    "    for edge in edgeList:\n",
    "        vertex1,vertex2 = edge\n",
    "        graph[vertex1][vertex2] = 1\n",
    "        graph[vertex2][vertex1] = 1\n",
    "        \n",
    "    return graph\n",
    "\n"
   ]
  },
  {
   "cell_type": "markdown",
   "metadata": {},
   "source": [
    "## Algorithm with bit masking\n",
    "1. From current srcs,extract all possible next neighbors to visit, update the next unvisited list.\n",
    "2. Prune these next neighbors using the next unvisited list, get the next srcs.\n",
    "3. If within the next srcs, there exists the destination, early return.\n",
    "4. If we reach a deadend in next srcs, i.e. next srcs with no more srcs. Terminated.\n",
    "5. Repeat these until either reaching a dead end or early return.\n",
    "- For each iteration, increment the distance."
   ]
  },
  {
   "cell_type": "code",
   "execution_count": 2,
   "metadata": {},
   "outputs": [],
   "source": [
    "def bfs_shortest_path_bitMask(N = 16,graph = None , src = None , dst= None):\n",
    "    distance = 0\n",
    "    # Note 1 means unvisited, 0 means visited\n",
    "    current_visited = []\n",
    "    current_src     = []\n",
    "\n",
    "    next_visited = []\n",
    "    next_src     = []\n",
    "    nxt_possible_neighbors = []\n",
    "\n",
    "    # Initialize the current_visited and src\n",
    "    for _ in range(N+1):\n",
    "        current_visited.append(1)\n",
    "        current_src.append(0)\n",
    "        nxt_possible_neighbors.append(0)\n",
    "\n",
    "    next_visited = current_visited\n",
    "    next_src     = current_src\n",
    "\n",
    "    print(\"Current src\")\n",
    "    print(current_src)\n",
    "\n",
    "    print(\"Current visited\")\n",
    "    print(current_visited)\n",
    "    \n",
    "    # Put src in to current visited\n",
    "    current_src[src] = 1\n",
    "    \n",
    "    for _ in range(N):\n",
    "        distance = distance + 1  \n",
    "        # Find the next visited\n",
    "        for i in range(N):\n",
    "            # print(\"Type of current src\")\n",
    "            # print(current_src[N-1])\n",
    "            # print(type(current_src[i]))\n",
    "            next_visited[i] = current_visited[i] ^ current_src[i]\n",
    "\n",
    "        # From current src and info of adjacent matrix, extract all possible neighbors\n",
    "        mask_graph = graph\n",
    "        for i in range(N):\n",
    "            # Extracting possible neighbor first using masking.\n",
    "            if current_src[i] == 0:\n",
    "                for j in range(N):\n",
    "                    mask_graph[i][j] = 0\n",
    "\n",
    "        # From the mask graph, extract all possible neighbors\n",
    "        for j in range(N):\n",
    "            for i in range(N):\n",
    "                nxt_possible_neighbors[j] = nxt_possible_neighbors[j] or mask_graph[i][j]\n",
    "\n",
    "        # Prune the neighbors using next visited list\n",
    "        for i in range(N):\n",
    "            next_src[i] = nxt_possible_neighbors[i] and next_visited\n",
    "\n",
    "\n",
    "        if next_src[dst] == 1:\n",
    "            return distance\n",
    "\n",
    "        if all(v == 0 for v in next_visited):\n",
    "            return 0\n",
    "\n",
    "        current_visited = next_visited\n",
    "        current_src = next_src"
   ]
  },
  {
   "cell_type": "code",
   "execution_count": 3,
   "metadata": {},
   "outputs": [
    {
     "name": "stdout",
     "output_type": "stream",
     "text": [
      "Current src\n",
      "[0, 0, 0, 0, 0, 0, 0, 0, 0, 0, 0, 0, 0, 0, 0, 0, 0]\n",
      "Current visited\n",
      "[1, 1, 1, 1, 1, 1, 1, 1, 1, 1, 1, 1, 1, 1, 1, 1, 1]\n"
     ]
    },
    {
     "ename": "TypeError",
     "evalue": "unsupported operand type(s) for ^: 'int' and 'list'",
     "output_type": "error",
     "traceback": [
      "\u001b[1;31m---------------------------------------------------------------------------\u001b[0m",
      "\u001b[1;31mTypeError\u001b[0m                                 Traceback (most recent call last)",
      "Cell \u001b[1;32mIn[3], line 12\u001b[0m\n\u001b[0;32m     10\u001b[0m graph2 \u001b[39m=\u001b[39m edge_to_aMatrix(N,graph2)\n\u001b[0;32m     11\u001b[0m \u001b[39m# graph2\u001b[39;00m\n\u001b[1;32m---> 12\u001b[0m dist2 \u001b[39m=\u001b[39m bfs_shortest_path_bitMask(N,graph2 , start_vertex , end_vertex)\n",
      "Cell \u001b[1;32mIn[2], line 36\u001b[0m, in \u001b[0;36mbfs_shortest_path_bitMask\u001b[1;34m(N, graph, src, dst)\u001b[0m\n\u001b[0;32m     31\u001b[0m \u001b[39m# Find the next visited\u001b[39;00m\n\u001b[0;32m     32\u001b[0m \u001b[39mfor\u001b[39;00m i \u001b[39min\u001b[39;00m \u001b[39mrange\u001b[39m(N):\n\u001b[0;32m     33\u001b[0m     \u001b[39m# print(\"Type of current src\")\u001b[39;00m\n\u001b[0;32m     34\u001b[0m     \u001b[39m# print(current_src[N-1])\u001b[39;00m\n\u001b[0;32m     35\u001b[0m     \u001b[39m# print(type(current_src[i]))\u001b[39;00m\n\u001b[1;32m---> 36\u001b[0m     next_visited[i] \u001b[39m=\u001b[39m current_visited[i] \u001b[39m^\u001b[39;49m current_src[i]\n\u001b[0;32m     38\u001b[0m \u001b[39m# From current src and info of adjacent matrix, extract all possible neighbors\u001b[39;00m\n\u001b[0;32m     39\u001b[0m mask_graph \u001b[39m=\u001b[39m graph\n",
      "\u001b[1;31mTypeError\u001b[0m: unsupported operand type(s) for ^: 'int' and 'list'"
     ]
    }
   ],
   "source": [
    "graph2 = [[0,3],[0,4],[0,8],[0,9],[0,10],[0,11],[0,14],[0,15],[1,2],[1,4],[1,5],[1,6],[1,9],[1,10]\n",
    "          ,[1,11],[1,15],[2,1],[2,6],[2,14],[3,0],[4,1],[5,1],[5,6],[5,9],[6,1],[6,2],[6,5],[6,8],[6,9]\n",
    "          ,[6,10],[6,13],[6,15],[7,0],[8,0],[8,6],[9,0],[9,1],[9,5],[9,6],[10,0],[10,1],[1,6],[11,0],[11,1]\n",
    "          ,[13,6],[14,0],[14,2],[15,0],[15,1],[15,6]]\n",
    "N = 16\n",
    "\n",
    "start_vertex = 8\n",
    "end_vertex   = 11\n",
    "\n",
    "graph2 = edge_to_aMatrix(N,graph2)\n",
    "# graph2\n",
    "dist2 = bfs_shortest_path_bitMask(N,graph2 , start_vertex , end_vertex)"
   ]
  }
 ],
 "metadata": {
  "kernelspec": {
   "display_name": "Python 3",
   "language": "python",
   "name": "python3"
  },
  "language_info": {
   "codemirror_mode": {
    "name": "ipython",
    "version": 3
   },
   "file_extension": ".py",
   "mimetype": "text/x-python",
   "name": "python",
   "nbconvert_exporter": "python",
   "pygments_lexer": "ipython3",
   "version": "3.11.4"
  },
  "orig_nbformat": 4
 },
 "nbformat": 4,
 "nbformat_minor": 2
}
