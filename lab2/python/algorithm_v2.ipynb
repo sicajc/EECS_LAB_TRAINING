{
 "cells": [
  {
   "cell_type": "code",
   "execution_count": 132,
   "metadata": {},
   "outputs": [],
   "source": [
    "def edge_to_aMatrix(N,edgeList):\n",
    "    graph = []\n",
    "    for i in range(N):\n",
    "        graph.append([])\n",
    "        for j in range(N):\n",
    "            graph[i].append(0)\n",
    "    \n",
    "    for edge in edgeList:\n",
    "        vertex1,vertex2 = edge\n",
    "        graph[vertex1][vertex2] = 1\n",
    "        graph[vertex2][vertex1] = 1\n",
    "        \n",
    "    return graph"
   ]
  },
  {
   "cell_type": "markdown",
   "metadata": {},
   "source": [
    "## Constraint BFS\n",
    "- Since there are only 16 vertices to visit.\n",
    "- So there should only be a maximum of 16 vertices to visit once.\n",
    "0. Base case:\n",
    "    1. Source has no neighbor\n",
    "    2. destination has no neighbor\n",
    "\n",
    "1. General case:\n",
    "    1. From source vertex, start choosing possible neighbors from the 16 stations.\n",
    "    2. Possible means the station has not been visited.\n",
    "    3. Form the frontier with these neighbors and mark these selected neighbors as visited.\n",
    "    4. These neighbors would become the source for next iteration.\n",
    "    5. At each iteration, add 1 distance.\n",
    "    6. Until you,\n",
    "        1. Met the destination vertex, return the distance\n",
    "        2. Have nothing left to explore"
   ]
  },
  {
   "cell_type": "code",
   "execution_count": 133,
   "metadata": {},
   "outputs": [],
   "source": [
    "def bfs_shortest_path_opt(N=16, graph = None, start = None, dst = None):\n",
    "    frontier = [start]\n",
    "    nxt_frontier = []\n",
    "    not_visited = [i for i in range(0,N)]\n",
    "       \n",
    "    distance = 0\n",
    "    \n",
    "    if start == dst:\n",
    "        return distance\n",
    "    \n",
    "    for _ in range(0,N):\n",
    "        nxt_frontier = []\n",
    "        for vertex in frontier:\n",
    "            # print(\"-----------------\")        \n",
    "            # print(f\"Distance = {distance}\")\n",
    "            # print(f\"Current visiting vertex: {vertex}\")\n",
    "            # print(f\"Currentt frontier: {frontier}\")\n",
    "            # print(f\"Not visited vertex: {not_visited}\")\n",
    "            # print(f\"next frontier: {nxt_frontier}\")\n",
    "            \n",
    "            if (vertex in not_visited):\n",
    "                not_visited.remove(vertex)\n",
    "\n",
    "            for neighbor in range(0,N):\n",
    "                valid = graph[neighbor][vertex]\n",
    "                # print(f\"neighbor {neighbor} is valid: {valid}\")\n",
    "\n",
    "                if valid == 1:\n",
    "                    if neighbor == dst:\n",
    "                        distance = distance + 1\n",
    "                        return distance\n",
    "\n",
    "                    if (neighbor in not_visited) == True:\n",
    "                        if neighbor not in nxt_frontier:\n",
    "                            nxt_frontier.append(neighbor)\n",
    "                            \n",
    "        if len(nxt_frontier) == 0:\n",
    "            return 'Not reachable'\n",
    "        \n",
    "        frontier = nxt_frontier\n",
    "        distance = distance + 1\n",
    "\n",
    "    distance = 'Not reachable'\n",
    "                    \n",
    "    \n",
    "    return distance\n",
    "    "
   ]
  },
  {
   "cell_type": "code",
   "execution_count": 134,
   "metadata": {},
   "outputs": [],
   "source": [
    "N = 16\n",
    "\n",
    "graph2 = [[0,1],[0,2],[2,3],[1,2],[1,4],[4,5],[5,6]]\n"
   ]
  },
  {
   "cell_type": "code",
   "execution_count": 135,
   "metadata": {},
   "outputs": [],
   "source": [
    "start_vertex = 1\n",
    "end_vertex   = 10\n",
    "\n",
    "graph2 = edge_to_aMatrix(N,graph2)\n",
    "# print(graph2)\n",
    "# graph2\n",
    "dist2 = bfs_shortest_path_opt(N,graph2 , start_vertex , end_vertex)"
   ]
  },
  {
   "cell_type": "code",
   "execution_count": 136,
   "metadata": {},
   "outputs": [
    {
     "data": {
      "text/plain": [
       "'Not reachable'"
      ]
     },
     "execution_count": 136,
     "metadata": {},
     "output_type": "execute_result"
    }
   ],
   "source": [
    "dist2"
   ]
  },
  {
   "cell_type": "code",
   "execution_count": 137,
   "metadata": {},
   "outputs": [],
   "source": [
    "\n",
    "def bfs_shortest_path_opt(N=16, graph = None, start = None, dst = None):\n",
    "    # Since we only have 16 possible stations, change the dynamic array into a static one\n",
    "    # Frontier[i] == 1 means i vertex is a part of the frontier \n",
    "    # Since we have only 16 stations, max iterations are 16\n",
    "    frontier     = [0 for i in range(0,N)]\n",
    "    nxt_frontier = [0 for i in range(0,N)]\n",
    "    not_visited  = [1 for i in range(0,N)]\n",
    "\n",
    "    frontier[start] = 1\n",
    "    distance = 0\n",
    "    \n",
    "    src_no_neighbor = all(e == 0 for e in graph[start])\n",
    "    dst_no_neighbor = all(e == 0 for e in graph[dst])\n",
    "    \n",
    "    early_termination = (start == dst or src_no_neighbor or dst_no_neighbor)\n",
    "    \n",
    "    if early_termination == True:\n",
    "        print(\"Early return\")\n",
    "        return distance\n",
    "    \n",
    "    # Feedback within, this loop must be sequential or created using parallelized loop Unrolling\n",
    "    for cnt in range(0,N): \n",
    "        for vertex in range(0,N):\n",
    "            if frontier[vertex] == 1:\n",
    "                if (not_visited[vertex] == 1):\n",
    "                    not_visited[vertex] == 0\n",
    "\n",
    "                for neighbor in range(0,N):\n",
    "                    valid = graph[neighbor][vertex]\n",
    "                    # print(f\"neighbor {neighbor} is valid: {valid}\")\n",
    "\n",
    "                    if valid == 1:\n",
    "                        dst_found = neighbor == dst\n",
    "                        if dst_found == True:\n",
    "                            distance = distance + 1\n",
    "                            return distance\n",
    "\n",
    "                        if not_visited[neighbor] == 1:\n",
    "                            nxt_frontier[neighbor] = 1 \n",
    "        \n",
    "        # No next frontier, meets a dead end\n",
    "        if all(e == 0 for e in nxt_frontier):\n",
    "            return 'Not reachable'\n",
    "        \n",
    "        frontier = nxt_frontier\n",
    "        distance = distance + 1\n",
    "        nxt_frontier = [0 for i in range(0,N)]\n",
    "\n",
    "    distance = 'Not reachable'\n",
    "                    \n",
    "    \n",
    "    return distance"
   ]
  },
  {
   "cell_type": "code",
   "execution_count": 138,
   "metadata": {},
   "outputs": [
    {
     "name": "stdout",
     "output_type": "stream",
     "text": [
      "Early return\n"
     ]
    }
   ],
   "source": [
    "dist2 = bfs_shortest_path_opt(N,graph2 , start_vertex , end_vertex)"
   ]
  },
  {
   "cell_type": "code",
   "execution_count": 139,
   "metadata": {},
   "outputs": [
    {
     "data": {
      "text/plain": [
       "0"
      ]
     },
     "execution_count": 139,
     "metadata": {},
     "output_type": "execute_result"
    }
   ],
   "source": [
    "dist2"
   ]
  },
  {
   "cell_type": "markdown",
   "metadata": {},
   "source": [
    "### Try Unroll the loop"
   ]
  },
  {
   "cell_type": "code",
   "execution_count": 115,
   "metadata": {},
   "outputs": [],
   "source": [
    "def bfs_shortest_path_opt(N=16, graph = None, start = None, dst = None):\n",
    "    # Since we only have 16 possible stations, change the dynamic array into a static one\n",
    "    # Frontier[i] == 1 means i vertex is a part of the frontier \n",
    "    # Since we have only 16 stations, max iterations are 16\n",
    "    frontier0     = [0 for i in range(0,N)]\n",
    "    nxt_frontier0 = [0 for i in range(0,N)]\n",
    "    not_visited0  = [1 for i in range(0,N)]\n",
    "    \n",
    "    frontier1     = [0 for i in range(0,N)]\n",
    "    nxt_frontier1 = [0 for i in range(0,N)]\n",
    "    not_visited1  = [1 for i in range(0,N)]\n",
    "\n",
    "    frontier0[start] = 1\n",
    "    \n",
    "    distance0 = 0\n",
    "    distance1 = 0\n",
    "    \n",
    "    if start == dst:\n",
    "        return distance0\n",
    "    \n",
    "    # Feedback within, this loop must be sequential or created using parallelized loop Unrolling\n",
    "    for cnt in range(0,N/2): \n",
    "        #Iteration 1\n",
    "        nxt_frontier0 = [0 for i in range(0,N)]\n",
    "        for vertex in range(0,N):\n",
    "            if frontier0[vertex] == 1:\n",
    "                if (not_visited0[vertex] == 1):\n",
    "                    not_visited0[vertex] == 0\n",
    "\n",
    "                for neighbor in range(0,N):\n",
    "                    valid = graph[neighbor][vertex]\n",
    "                    # print(f\"neighbor {neighbor} is valid: {valid}\")\n",
    "\n",
    "                    if valid == 1:\n",
    "                        if neighbor == dst:\n",
    "                            distance = distance + 1\n",
    "                            return distance0\n",
    "\n",
    "                        if not_visited0[neighbor] == 1:\n",
    "                            nxt_frontier0[neighbor] = 1 \n",
    "        \n",
    "        # No next frontier, meets a dead end\n",
    "        if all(e == 0 for e in nxt_frontier0):\n",
    "            return 'Not reachable'\n",
    "        \n",
    "        frontier1 = nxt_frontier0\n",
    "        distance1 = distance0 + 1\n",
    "        \n",
    "        # Iteration 2:\n",
    "        nxt_frontier1 = [0 for i in range(0,N)]\n",
    "        for vertex in range(0,N):\n",
    "            if frontier1[vertex] == 1:\n",
    "                if (not_visited1[vertex] == 1):\n",
    "                    not_visited1[vertex] == 0\n",
    "\n",
    "                for neighbor in range(0,N):\n",
    "                    valid = graph[neighbor][vertex]\n",
    "                    # print(f\"neighbor {neighbor} is valid: {valid}\")\n",
    "\n",
    "                    if valid == 1:\n",
    "                        if neighbor == dst:\n",
    "                            distance = distance + 1\n",
    "                            return distance0\n",
    "\n",
    "                        if not_visited1[neighbor] == 1:\n",
    "                            nxt_frontier1[neighbor] = 1 \n",
    "        \n",
    "        # No next frontier, meets a dead end\n",
    "        if all(e == 0 for e in nxt_frontier1):\n",
    "            return 'Not reachable'\n",
    "        \n",
    "        frontier0 = nxt_frontier1\n",
    "        distance0 = distance1 + 1\n",
    "        \n",
    "        \n",
    "\n",
    "    distance = 'Not reachable'\n",
    "                    \n",
    "    \n",
    "    return distance"
   ]
  },
  {
   "cell_type": "code",
   "execution_count": null,
   "metadata": {},
   "outputs": [],
   "source": []
  }
 ],
 "metadata": {
  "kernelspec": {
   "display_name": "base",
   "language": "python",
   "name": "python3"
  },
  "language_info": {
   "codemirror_mode": {
    "name": "ipython",
    "version": 3
   },
   "file_extension": ".py",
   "mimetype": "text/x-python",
   "name": "python",
   "nbconvert_exporter": "python",
   "pygments_lexer": "ipython3",
   "version": "3.9.12"
  },
  "orig_nbformat": 4
 },
 "nbformat": 4,
 "nbformat_minor": 2
}
