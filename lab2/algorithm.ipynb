{
 "cells": [
  {
   "cell_type": "markdown",
   "metadata": {},
   "source": [
    "### Single source all destination shortest path"
   ]
  },
  {
   "cell_type": "code",
   "execution_count": null,
   "metadata": {},
   "outputs": [],
   "source": [
    "from collections import deque\n",
    " \n",
    "def bfs_shortest_path(graph, start):\n",
    "    # Create a queue and add the starting vertex to it\n",
    "    queue = deque([start])\n",
    "     \n",
    "    # Create an array to keep track of the distances from the starting vertex to all other vertices\n",
    "    distances = [float('inf')] * len(graph)\n",
    "    distances[start] = 0\n",
    "     \n",
    "    # Create a set to keep track of visited vertices\n",
    "    visited = [start]\n",
    "     \n",
    "    # Perform BFS\n",
    "    while queue:\n",
    "        # Dequeue the next vertex\n",
    "        vertex = queue.popleft()\n",
    "        if vertex not in visited:\n",
    "            visited.append(vertex)\n",
    "        \n",
    "        # print(\"Visiting vertex:\")\n",
    "        # print(vertex)\n",
    "        # print(\"Current Distance:\")\n",
    "        # print(distances)\n",
    "\n",
    "        # print(\"Visited vertex:\")\n",
    "        # print(visited)\n",
    "        \n",
    "        # Update the distances of neighbors\n",
    "        for neighbor in graph[vertex]:\n",
    "            if neighbor not in visited:\n",
    "                distances[neighbor] = distances[vertex] + 1\n",
    "                queue.append(neighbor)\n",
    "    \n",
    "    \n",
    "    return distances\n",
    " \n",
    " \n",
    "# Example graph: unweighted, directed graph with 5 vertices\n",
    "# Vertices are represented by integers 0 through 4\n",
    "# Edges: (0, 1), (0, 2), (1, 2), (1, 3), (2, 3), (3, 4)\n",
    " \n",
    "a = [3,4,2,5,1]\n",
    "print(4 not in a) \n",
    "\n",
    "graph = [[1, 2], [2, 3], [3], [4], []]\n",
    " \n",
    "start_vertex = 0\n",
    "distances = bfs_shortest_path(graph, start_vertex)\n",
    " \n",
    "print(distances)  # Output: [0, 1, 1, 2, 3]"
   ]
  },
  {
   "cell_type": "markdown",
   "metadata": {},
   "source": [
    "### Modify the algorithm to single source and single destination"
   ]
  },
  {
   "cell_type": "code",
   "execution_count": 71,
   "metadata": {},
   "outputs": [
    {
     "name": "stdout",
     "output_type": "stream",
     "text": [
      "Result Distances to all vertices:\n",
      "[0, 1, 1, 2, 3, inf]\n",
      "inf\n"
     ]
    }
   ],
   "source": [
    "from collections import deque\n",
    " \n",
    "def bfs_shortest_path_single(graph, start, dst):\n",
    "    # Create a queue and add the starting vertex to it\n",
    "    queue = deque([start])\n",
    "     \n",
    "    # Create an array to keep track of the distances from the starting vertex to all other vertices\n",
    "    distances = [float('inf')] * len(graph)\n",
    "    distances[start] = 0\n",
    "     \n",
    "    # Create a set to keep track of visited vertices\n",
    "    visited = [start]\n",
    "     \n",
    "    # Perform BFS\n",
    "    while queue:\n",
    "        # Dequeue the next vertex\n",
    "        vertex = queue.popleft()\n",
    "        if vertex not in visited:\n",
    "            visited.append(vertex)\n",
    "        \n",
    "        # print(\"Visiting vertex:\")\n",
    "        # print(vertex)\n",
    "        # print(\"Current Distance:\")\n",
    "        # print(distances)\n",
    "\n",
    "        # print(\"Visited vertex:\")\n",
    "        # print(visited)\n",
    "        \n",
    "        # Update the distances of neighbors\n",
    "        for neighbor in graph[vertex]:\n",
    "            if neighbor not in visited:\n",
    "                dist_to_vertex= distances[vertex] + 1\n",
    "                if dist_to_vertex < distances[neighbor]:\n",
    "                    distances[neighbor] = dist_to_vertex\n",
    "                \n",
    "                #Early return\n",
    "                if neighbor == dst:\n",
    "                    break\n",
    "                    \n",
    "                queue.append(neighbor)\n",
    "                \n",
    "        \n",
    "    print(\"Result Distances to all vertices:\")\n",
    "    print(distances)\n",
    "    return distances[dst]\n",
    " \n",
    " \n",
    "# Example graph: unweighted, directed graph with 5 vertices\n",
    "# Vertices are represented by integers 0 through 4\n",
    "# Edges: (0, 1), (0, 2), (1, 2), (1, 3), (2, 3), (3, 4)\n",
    "\n",
    "graph = [[1, 2], [0 , 2 , 3], [0,1], [1,4], [3], []]\n",
    " \n",
    "start_vertex = 0\n",
    "dst_vertex   = 5\n",
    "distances = bfs_shortest_path_single(graph, start_vertex,dst_vertex)\n",
    " \n",
    "print(distances)  # Output: [0, 1, 1, 2, 3]"
   ]
  },
  {
   "cell_type": "markdown",
   "metadata": {},
   "source": [
    "### Modifying algorithm to make it look closer to problem statement"
   ]
  },
  {
   "cell_type": "code",
   "execution_count": 73,
   "metadata": {},
   "outputs": [
    {
     "name": "stdout",
     "output_type": "stream",
     "text": [
      "Result Shortest Distances to all vertices:\n",
      "{0: inf, 1: 2, 2: 1, 4: 0, 5: 1}\n",
      "2\n"
     ]
    }
   ],
   "source": [
    "from collections import deque\n",
    " \n",
    "def bfs_shortest_path_dict(graph, start, dst):\n",
    "    # Create a queue and add the starting vertex to it\n",
    "    queue = deque([start])\n",
    "    \n",
    "    distances = {}\n",
    "    # Create a dictionary to keep track of the distances from the starting vertex to all other vertices\n",
    "    # Initializing the distances to infinity\n",
    "    for e in graph:\n",
    "        distances[e] = float('inf')\n",
    "        \n",
    "    distances[start] = 0\n",
    "     \n",
    "    # Create a set to keep track of visited vertices\n",
    "    visited = [start]\n",
    "     \n",
    "    # Perform BFS\n",
    "    while queue:\n",
    "        # Dequeue the next vertex\n",
    "        vertex = queue.popleft()\n",
    "        if vertex not in visited:\n",
    "            visited.append(vertex)\n",
    "    \n",
    "        # Update the distances of neighbors\n",
    "        for neighbor in graph[vertex]:\n",
    "            if neighbor not in visited:\n",
    "                dist_to_vertex= distances[vertex] + 1\n",
    "                if dist_to_vertex < distances[neighbor]:\n",
    "                    distances[neighbor] = dist_to_vertex\n",
    "                # print(\"Distances\")\n",
    "                # print(distances)\n",
    "                \n",
    "                #Early return\n",
    "                if neighbor == dst:\n",
    "                    break\n",
    "                    \n",
    "                queue.append(neighbor)\n",
    "            \n",
    "    print(\"Result Shortest Distances to all vertices:\")\n",
    "    print(distances)\n",
    "    \n",
    "    return distances[dst]\n",
    "\n",
    "\n",
    "# Testing more cases\n",
    "graph2 = {\n",
    "    0: [],\n",
    "    1: [2],\n",
    "    2: [1,4,5],\n",
    "    4: [2,5],\n",
    "    5: [2,4]\n",
    "}\n",
    "\n",
    "start_vertex = 4\n",
    "dst_vertex   = 1\n",
    "distances = bfs_shortest_path_dict(graph2, start_vertex,dst_vertex)\n",
    " \n",
    "print(distances)  # Output: [0, 1, 1, 2, 3]\n"
   ]
  },
  {
   "cell_type": "markdown",
   "metadata": {},
   "source": [
    "### Optimizing the algorithm"
   ]
  },
  {
   "cell_type": "code",
   "execution_count": null,
   "metadata": {},
   "outputs": [],
   "source": []
  }
 ],
 "metadata": {
  "kernelspec": {
   "display_name": "base",
   "language": "python",
   "name": "python3"
  },
  "language_info": {
   "name": "python",
   "version": "3.9.12"
  },
  "orig_nbformat": 4
 },
 "nbformat": 4,
 "nbformat_minor": 2
}
