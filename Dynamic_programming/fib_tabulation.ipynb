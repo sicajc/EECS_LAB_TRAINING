{
 "cells": [
  {
   "cell_type": "markdown",
   "metadata": {},
   "source": [
    "## Tabulation builds a table, which creates the array for the number of inputs"
   ]
  },
  {
   "cell_type": "markdown",
   "metadata": {},
   "source": [
    "- We hope that each element in the array is the result of a sub-problem"
   ]
  },
  {
   "cell_type": "code",
   "execution_count": 28,
   "metadata": {},
   "outputs": [],
   "source": [
    "def fib_tabulation(n):\n",
    "    table = [0 for i in range(n)]\n",
    "    print(table)"
   ]
  },
  {
   "cell_type": "code",
   "execution_count": 29,
   "metadata": {},
   "outputs": [
    {
     "name": "stdout",
     "output_type": "stream",
     "text": [
      "[0, 0, 0]\n"
     ]
    }
   ],
   "source": [
    "fib_tabulation(3)"
   ]
  },
  {
   "cell_type": "code",
   "execution_count": 30,
   "metadata": {},
   "outputs": [],
   "source": [
    "def fib_tabulation(n):\n",
    "    # Initialize a table up front for the size of inputs\n",
    "    table = [0 for i in range(n+2)]\n",
    "    print(table)\n",
    "    table[1] = 1\n",
    "    # Start do the tabulation method of storing the input size, and construct a tree using\n",
    "    # a table\n",
    "    for i in range(n):\n",
    "        table[i+1] += table[i]\n",
    "        table[i+2] += table[i]\n",
    "        \n",
    "    print(table)\n",
    "    return table[n]\n",
    "    "
   ]
  },
  {
   "cell_type": "code",
   "execution_count": 31,
   "metadata": {},
   "outputs": [
    {
     "name": "stdout",
     "output_type": "stream",
     "text": [
      "[0, 0, 0, 0, 0, 0, 0]\n",
      "[0, 1, 1, 2, 3, 5, 3]\n"
     ]
    },
    {
     "data": {
      "text/plain": [
       "5"
      ]
     },
     "execution_count": 31,
     "metadata": {},
     "output_type": "execute_result"
    }
   ],
   "source": [
    "fib_tabulation(5)"
   ]
  },
  {
   "cell_type": "markdown",
   "metadata": {},
   "source": [
    "# Tabulation strategy\n",
    "1. Visualize the problem as a table\n",
    "2. Size of the table based on the inputs.\n",
    "3. Initialize the talbe with the default values.\n",
    "4. Seed the trivial answer into the table\n",
    "5. Iterate through the table\n",
    "6. Fill further positions based on the current position.(Logic that needs to be figured out)"
   ]
  }
 ],
 "metadata": {
  "kernelspec": {
   "display_name": "base",
   "language": "python",
   "name": "python3"
  },
  "language_info": {
   "codemirror_mode": {
    "name": "ipython",
    "version": 3
   },
   "file_extension": ".py",
   "mimetype": "text/x-python",
   "name": "python",
   "nbconvert_exporter": "python",
   "pygments_lexer": "ipython3",
   "version": "3.9.12"
  },
  "orig_nbformat": 4
 },
 "nbformat": 4,
 "nbformat_minor": 2
}
