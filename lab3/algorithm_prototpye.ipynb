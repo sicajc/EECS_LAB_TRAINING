{
 "cells": [
  {
   "cell_type": "code",
   "execution_count": 362,
   "metadata": {},
   "outputs": [
    {
     "data": {
      "text/plain": [
       "[[1, 1, -2, -2], [2, 2, 3, -1], [3, 5, 8, 5], [5, 6, 3, 2]]"
      ]
     },
     "execution_count": 362,
     "metadata": {},
     "output_type": "execute_result"
    }
   ],
   "source": [
    "import copy\n",
    "import math\n",
    "IMAGE_SIZE = 4\n",
    "STRIDE = 1\n",
    "KERNAL_SIZE = 3\n",
    "PADDED_SIZE = IMAGE_SIZE + 2\n",
    "\n",
    "# Padding -> Convolution -> Activation -> Pixel Shuffling\n",
    "# Example KERNAL\n",
    "kernal = [[1,6,0],[-1,2,4],[2,3,5]]\n",
    "img    = [[1,1,-2,-2],[2,2,3,-1],[3,5,8,5],[5,6,3,2]]\n",
    "\n",
    "# Create a 5x5 img empty padded first\n",
    "padded_img = [ [0 for i in range(IMAGE_SIZE+2)] for j in range(IMAGE_SIZE+2)]\n",
    "\n",
    "img\n"
   ]
  },
  {
   "cell_type": "markdown",
   "metadata": {},
   "source": [
    "# Zero Pad"
   ]
  },
  {
   "cell_type": "code",
   "execution_count": 363,
   "metadata": {},
   "outputs": [
    {
     "data": {
      "text/plain": [
       "[[0, 0, 0, 0, 0, 0],\n",
       " [0, 1, 1, -2, -2, 0],\n",
       " [0, 2, 2, 3, -1, 0],\n",
       " [0, 3, 5, 8, 5, 0],\n",
       " [0, 5, 6, 3, 2, 0],\n",
       " [0, 0, 0, 0, 0, 0]]"
      ]
     },
     "execution_count": 363,
     "metadata": {},
     "output_type": "execute_result"
    }
   ],
   "source": [
    "\n",
    "# Zero-padded\n",
    "for i in range(IMAGE_SIZE):\n",
    "    for j in range(IMAGE_SIZE):\n",
    "        padded_img[i+1][j+1] = img[i][j]    \n",
    "\n",
    "zero_padded_img = copy.deepcopy(padded_img)\n",
    "padded_img\n"
   ]
  },
  {
   "cell_type": "code",
   "execution_count": 364,
   "metadata": {},
   "outputs": [],
   "source": [
    "def zero_padding(img):\n",
    "    IMAGE_SIZE = len(img)\n",
    "    padded_img = [ [0 for i in range(IMAGE_SIZE+2)] for j in range(IMAGE_SIZE+2)]\n",
    "    # Zero-padded\n",
    "    for i in range(IMAGE_SIZE):\n",
    "        for j in range(IMAGE_SIZE):\n",
    "            padded_img[i+1][j+1] = img[i][j] \n",
    "\n",
    "    \n",
    "    return padded_img"
   ]
  },
  {
   "cell_type": "code",
   "execution_count": 365,
   "metadata": {},
   "outputs": [
    {
     "data": {
      "text/plain": [
       "[[0, 0, 0, 0, 0, 0],\n",
       " [0, 1, 1, -2, -2, 0],\n",
       " [0, 2, 2, 3, -1, 0],\n",
       " [0, 3, 5, 8, 5, 0],\n",
       " [0, 5, 6, 3, 2, 0],\n",
       " [0, 0, 0, 0, 0, 0]]"
      ]
     },
     "execution_count": 365,
     "metadata": {},
     "output_type": "execute_result"
    }
   ],
   "source": [
    "zero_padded_img = zero_padding(img)\n",
    "zero_padded_img"
   ]
  },
  {
   "cell_type": "markdown",
   "metadata": {},
   "source": [
    "# Replication"
   ]
  },
  {
   "cell_type": "code",
   "execution_count": 366,
   "metadata": {},
   "outputs": [
    {
     "data": {
      "text/plain": [
       "[[1, 1, 1, -2, -2, -2],\n",
       " [1, 1, 1, -2, -2, -2],\n",
       " [2, 2, 2, 3, -1, -1],\n",
       " [3, 3, 5, 8, 5, 5],\n",
       " [5, 5, 6, 3, 2, 2],\n",
       " [5, 5, 6, 3, 2, 2]]"
      ]
     },
     "execution_count": 366,
     "metadata": {},
     "output_type": "execute_result"
    }
   ],
   "source": [
    "# replication\n",
    "for i in range(IMAGE_SIZE):\n",
    "    for j in range(IMAGE_SIZE):\n",
    "        # Boundaries\n",
    "        if i == 0:\n",
    "            padded_img[0][j+1] = img[0][j]\n",
    "        if j == 0:\n",
    "            padded_img[i+1][0] = img[i][0]\n",
    "        if i == IMAGE_SIZE-1:\n",
    "            padded_img[IMAGE_SIZE+1][j+1] = img[IMAGE_SIZE-1][j]\n",
    "        if j == IMAGE_SIZE-1:\n",
    "            padded_img[i+1][IMAGE_SIZE+1] = img[i][IMAGE_SIZE-1]\n",
    "        \n",
    "        # Corners\n",
    "        if i == 0 and j == 0:\n",
    "            padded_img[0][0] = img[0][0]\n",
    "        if i == 0 and j == IMAGE_SIZE-1:\n",
    "            padded_img[0][IMAGE_SIZE+1] = img[0][IMAGE_SIZE-1]\n",
    "        if i == IMAGE_SIZE-1 and j == 0:\n",
    "            padded_img[IMAGE_SIZE+1][0] = img[IMAGE_SIZE-1][0]\n",
    "        if i == IMAGE_SIZE-1 and j == IMAGE_SIZE-1:\n",
    "            padded_img[IMAGE_SIZE+1][IMAGE_SIZE+1] = img[IMAGE_SIZE-1][IMAGE_SIZE-1]\n",
    "\n",
    "padded_img"
   ]
  },
  {
   "cell_type": "code",
   "execution_count": 367,
   "metadata": {},
   "outputs": [],
   "source": [
    "def replication(img):\n",
    "    IMAGE_SIZE = len(img)\n",
    "    padded_img = [ [0 for i in range(IMAGE_SIZE+2)] for j in range(IMAGE_SIZE+2)]\n",
    "    # replication\n",
    "    for i in range(IMAGE_SIZE):\n",
    "        for j in range(IMAGE_SIZE):\n",
    "            # First copy\n",
    "            padded_img[i+1][j+1] = img[i][j]\n",
    "\n",
    "            # Boundaries\n",
    "            if i == 0:\n",
    "                padded_img[0][j+1] = img[0][j]\n",
    "            if j == 0:\n",
    "                padded_img[i+1][0] = img[i][0]\n",
    "            if i == IMAGE_SIZE-1:\n",
    "                padded_img[IMAGE_SIZE+1][j+1] = img[IMAGE_SIZE-1][j]\n",
    "            if j == IMAGE_SIZE-1:\n",
    "                padded_img[i+1][IMAGE_SIZE+1] = img[i][IMAGE_SIZE-1]\n",
    "\n",
    "            # Corners\n",
    "            if i == 0 and j == 0:\n",
    "                padded_img[0][0] = img[0][0]\n",
    "            if i == 0 and j == IMAGE_SIZE-1:\n",
    "                padded_img[0][IMAGE_SIZE+1] = img[0][IMAGE_SIZE-1]\n",
    "            if i == IMAGE_SIZE-1 and j == 0:\n",
    "                padded_img[IMAGE_SIZE+1][0] = img[IMAGE_SIZE-1][0]\n",
    "            if i == IMAGE_SIZE-1 and j == IMAGE_SIZE-1:\n",
    "                padded_img[IMAGE_SIZE+1][IMAGE_SIZE+1] = img[IMAGE_SIZE-1][IMAGE_SIZE-1]\n",
    "    \n",
    "    return padded_img"
   ]
  },
  {
   "cell_type": "code",
   "execution_count": 368,
   "metadata": {},
   "outputs": [
    {
     "data": {
      "text/plain": [
       "[[1, 1, 1, -2, -2, -2],\n",
       " [1, 1, 1, -2, -2, -2],\n",
       " [2, 2, 2, 3, -1, -1],\n",
       " [3, 3, 5, 8, 5, 5],\n",
       " [5, 5, 6, 3, 2, 2],\n",
       " [5, 5, 6, 3, 2, 2]]"
      ]
     },
     "execution_count": 368,
     "metadata": {},
     "output_type": "execute_result"
    }
   ],
   "source": [
    "replicated_img = replication(img)\n",
    "\n",
    "replicated_img"
   ]
  },
  {
   "cell_type": "markdown",
   "metadata": {},
   "source": [
    "# Convolution"
   ]
  },
  {
   "cell_type": "code",
   "execution_count": 369,
   "metadata": {},
   "outputs": [
    {
     "data": {
      "text/plain": [
       "[[1, 6, 0], [-1, 2, 4], [2, 3, 5]]"
      ]
     },
     "execution_count": 369,
     "metadata": {},
     "output_type": "execute_result"
    }
   ],
   "source": [
    "kernal"
   ]
  },
  {
   "cell_type": "markdown",
   "metadata": {},
   "source": [
    "# Replication convolution"
   ]
  },
  {
   "cell_type": "code",
   "execution_count": 370,
   "metadata": {},
   "outputs": [
    {
     "name": "stdout",
     "output_type": "stream",
     "text": [
      "[[32, 25, -16, -26], [57, 82, 48, 33], [92, 96, 82, 41], [105, 95, 92, 69]]\n"
     ]
    }
   ],
   "source": [
    "convolved_img  = [ [0 for i in range(IMAGE_SIZE)] for j in range(IMAGE_SIZE)]\n",
    "for i in range(IMAGE_SIZE):\n",
    "    for j in range(IMAGE_SIZE):\n",
    "        for k in range(KERNAL_SIZE):\n",
    "            for l in range(KERNAL_SIZE):\n",
    "                convolved_img[i][j] += kernal[k][l] * padded_img[i+k][j+l]\n",
    "\n",
    "print(convolved_img)"
   ]
  },
  {
   "cell_type": "code",
   "execution_count": 371,
   "metadata": {},
   "outputs": [],
   "source": [
    "def convolution(img,kernal):\n",
    "    IMAGE_SIZE = len(img) -2\n",
    "    KERNAL_SIZE = len(kernal)\n",
    "\n",
    "    convolved_img  = [ [0 for i in range(IMAGE_SIZE)] for j in range(IMAGE_SIZE)]\n",
    "    for i in range(IMAGE_SIZE):\n",
    "        for j in range(IMAGE_SIZE):\n",
    "            for k in range(KERNAL_SIZE):\n",
    "                for l in range(KERNAL_SIZE):\n",
    "                    convolved_img[i][j] += kernal[k][l] * padded_img[i+k][j+l]\n",
    "\n",
    "    return convolved_img"
   ]
  },
  {
   "cell_type": "code",
   "execution_count": 372,
   "metadata": {},
   "outputs": [
    {
     "name": "stdout",
     "output_type": "stream",
     "text": [
      "[[32, 25, -16, -26], [57, 82, 48, 33], [92, 96, 82, 41], [105, 95, 92, 69]]\n"
     ]
    }
   ],
   "source": [
    "conv_result = convolution(padded_img,kernal)\n",
    "print(conv_result)"
   ]
  },
  {
   "cell_type": "markdown",
   "metadata": {},
   "source": [
    "# Zeropadded convolution"
   ]
  },
  {
   "cell_type": "code",
   "execution_count": 373,
   "metadata": {},
   "outputs": [
    {
     "data": {
      "text/plain": [
       "[[22, 18, -5, 1], [52, 82, 48, 12], [83, 96, 82, 11], [52, 52, 61, 39]]"
      ]
     },
     "execution_count": 373,
     "metadata": {},
     "output_type": "execute_result"
    }
   ],
   "source": [
    "convolved_img  = [ [0 for i in range(IMAGE_SIZE)] for j in range(IMAGE_SIZE)]\n",
    "for i in range(IMAGE_SIZE):\n",
    "    for j in range(IMAGE_SIZE):\n",
    "        for k in range(KERNAL_SIZE):\n",
    "            for l in range(KERNAL_SIZE):\n",
    "                convolved_img[i][j] += kernal[k][l] * zero_padded_img[i+k][j+l]\n",
    "\n",
    "convolved_img"
   ]
  },
  {
   "cell_type": "markdown",
   "metadata": {},
   "source": [
    "## RELU, LEAKY RELU, SIGMOID, tanh"
   ]
  },
  {
   "cell_type": "code",
   "execution_count": 374,
   "metadata": {},
   "outputs": [],
   "source": [
    "def relu(pixel):\n",
    "    if pixel >= 0:\n",
    "        return pixel\n",
    "    else:\n",
    "        return 0"
   ]
  },
  {
   "cell_type": "code",
   "execution_count": 375,
   "metadata": {},
   "outputs": [],
   "source": [
    "def leakyRelu(pixel):\n",
    "    if pixel >= 0:\n",
    "        return pixel\n",
    "    else:\n",
    "        return 0.1*pixel"
   ]
  },
  {
   "cell_type": "code",
   "execution_count": 376,
   "metadata": {},
   "outputs": [],
   "source": [
    "def sigmoid(pixel):\n",
    "    return 1/(1 + math.exp(-pixel))"
   ]
  },
  {
   "cell_type": "code",
   "execution_count": 377,
   "metadata": {},
   "outputs": [],
   "source": [
    "def tanh(pixel):\n",
    "    return (math.exp(pixel) - math.exp(-pixel))/(math.exp(pixel) + math.exp(-pixel))"
   ]
  },
  {
   "cell_type": "code",
   "execution_count": 378,
   "metadata": {},
   "outputs": [],
   "source": [
    "def printMatrix(matrix):\n",
    "    for i in range(len(matrix)):\n",
    "        print(\"\\n\")\n",
    "        for j in range(len(matrix)):\n",
    "            print(matrix[i][j] , end=\" \")"
   ]
  },
  {
   "cell_type": "markdown",
   "metadata": {},
   "source": [
    "## Putting it together with opt modes"
   ]
  },
  {
   "cell_type": "code",
   "execution_count": 379,
   "metadata": {},
   "outputs": [],
   "source": [
    "def nn(imgs,kernals,opt):\n",
    "    # Lists of 3 images = []\n",
    "    # 4 kernals for each images kernals = [[],[],[],[]] , [[],[],[],[]]\n",
    "    # opt = 0,1,2,3\n",
    "    # 0 is relu + replication\n",
    "    # 1 is leaky relu + replication\n",
    "    # 2 is sigmoid + zero-padding\n",
    "    # 3 is tanh + zero-padding\n",
    "\n",
    "    convolved_img = [[] for i in range(3)]\n",
    "    \n",
    "    # Selecting images\n",
    "    for idx,img in enumerate(imgs):    \n",
    "        if opt == 0 or opt == 1:\n",
    "            padded_img = replication(img)\n",
    "        else:\n",
    "            padded_img = zero_padding(img)\n",
    "\n",
    "        for kernal in kernals[idx]:\n",
    "            convolved_img[idx].append(convolution(padded_img,kernal))\n",
    "    \n",
    "    print(\"Convolved img[0]\",convolved_img[0])\n",
    "\n",
    "    outputs = []    \n",
    "    \n",
    "    # Summing up convoled results\n",
    "    for i in range(4):\n",
    "        conv_result1 = convolved_img[0][i] \n",
    "        conv_result2 = convolved_img[1][i]\n",
    "        conv_result3 = convolved_img[2][i]\n",
    "\n",
    "        temp = conv_result1\n",
    "        for j in range(len(conv_result1)):\n",
    "            for k in range(len(conv_result1)):\n",
    "                temp[j][k] = conv_result1[j][k]+\\\n",
    "                conv_result2[j][k] + conv_result3[j][k]\n",
    "        \n",
    "        outputs.append(temp)\n",
    "                \n",
    "    print(\"output 0 is \\n:\",outputs[0])\n",
    "\n",
    "    image_size = len(conv_result1)\n",
    "    \n",
    "    activation_result = []\n",
    "    \n",
    "    # activation\n",
    "    for output in outputs:\n",
    "        activation_img = copy.deepcopy(output)\n",
    "        for i in range(image_size):\n",
    "            for j in range(image_size):\n",
    "                if opt == 0:\n",
    "                    activation_img[i][j] = relu(output[i][j])\n",
    "                elif opt == 1:\n",
    "                    activation_img[i][j] = leakyRelu(output[i][j])\n",
    "                elif opt == 2:\n",
    "                    activation_img[i][j] = sigmoid(output[i][j])            \n",
    "                elif opt == 3:\n",
    "                    activation_img[i][j] = tanh(output[i][j])\n",
    "\n",
    "\n",
    "        activation_result.append(activation_img)\n",
    "        # print(activation_img)\n",
    "\n",
    "    \n",
    "    print('activation result is:\\n',activation_result)\n",
    "    \n",
    "    shuffled_img = [[0 for i in range(IMAGE_SIZE*2)] for j in range(IMAGE_SIZE*2)]\n",
    "    start_loc =[(0,0),(0,1),(1,0),(1,1)]\n",
    "    image_size = len(activation_result[0])\n",
    "    \n",
    "    # Pixel shuffling\n",
    "    for idx,activated_img in enumerate(activation_result):\n",
    "        start_i , start_j = start_loc[idx]\n",
    "        for i in range(image_size):\n",
    "            for j in range(image_size):\n",
    "                shuffled_img[start_i + i*2][start_j + j*2] = activated_img[i][j]\n",
    "\n",
    "    # print(shuffled_img)\n",
    "\n",
    "    return shuffled_img"
   ]
  },
  {
   "cell_type": "code",
   "execution_count": 380,
   "metadata": {},
   "outputs": [
    {
     "name": "stdout",
     "output_type": "stream",
     "text": [
      "activation result is:\n",
      " [[[90, 48, 0, 0], [157, 185, 130, 87], [260, 290, 268, 252], [343, 322, 306, 259]], [[70, 32, 12, 0], [108, 122, 123, 97], [191, 232, 189, 148], [245, 265, 235, 170]], [[98, 52, 0, 0], [159, 173, 160, 88], [268, 317, 293, 250], [364, 384, 342, 283]], [[88, 42, 0, 0], [147, 181, 113, 65], [253, 289, 244, 195], [321, 302, 293, 255]]]\n"
     ]
    },
    {
     "data": {
      "text/plain": [
       "[[90, 70, 48, 32, 0, 12, 0, 0],\n",
       " [98, 88, 52, 42, 0, 0, 0, 0],\n",
       " [157, 108, 185, 122, 130, 123, 87, 97],\n",
       " [159, 147, 173, 181, 160, 113, 88, 65],\n",
       " [260, 191, 290, 232, 268, 189, 252, 148],\n",
       " [268, 253, 317, 289, 293, 244, 250, 195],\n",
       " [343, 245, 322, 265, 306, 235, 259, 170],\n",
       " [364, 321, 384, 302, 342, 293, 283, 255]]"
      ]
     },
     "execution_count": 380,
     "metadata": {},
     "output_type": "execute_result"
    }
   ],
   "source": [
    "import random \n",
    "\n",
    "kernals = []\n",
    "imgs    = []\n",
    "# Generate random 3 groups of kernals each with 4 kernal\n",
    "for i in range(3):\n",
    "    kernals.append([])\n",
    "    for _ in range(4):\n",
    "        kernal = [[random.randint(0,5) for i in range(3)] for j in range(3)]\n",
    "        kernals[i].append(kernal)\n",
    "\n",
    "# Generate random 3 imgs\n",
    "for i in range(3):\n",
    "    img = [[random.randint(0,5) for i in range(4)] for j in range(4)]\n",
    "    imgs.append(img)\n",
    "\n",
    "# imgs[0]\n",
    "# kernals[0]\n",
    "\n",
    "opt = 0\n",
    "processed_img = nn(imgs,kernals,opt)\n",
    "\n",
    "processed_img"
   ]
  }
 ],
 "metadata": {
  "kernelspec": {
   "display_name": "base",
   "language": "python",
   "name": "python3"
  },
  "language_info": {
   "codemirror_mode": {
    "name": "ipython",
    "version": 3
   },
   "file_extension": ".py",
   "mimetype": "text/x-python",
   "name": "python",
   "nbconvert_exporter": "python",
   "pygments_lexer": "ipython3",
   "version": "3.11.4"
  },
  "orig_nbformat": 4
 },
 "nbformat": 4,
 "nbformat_minor": 2
}
