{
 "cells": [
  {
   "cell_type": "markdown",
   "metadata": {},
   "source": [
    "## Convolutional Neural Network"
   ]
  },
  {
   "cell_type": "markdown",
   "metadata": {},
   "source": [
    "0. Given 3 images and 12 = 3*4 kernals, each image has 4 kernals. Produces 4 outputs for these 3 images.\n",
    "1. Reading the pixel and store it into a 6x6 matrix.\n",
    "    - If replication padding, replicate the boundaries.\n",
    "    - If zero-padding       , zero-pad the boundaries.\n",
    "2. For every kernals of each image. \n",
    "    - For every possible windows in these 3 images.\n",
    "        1. Generate their correspondent 3 kernal processed pixels.\n",
    "        2. Sum these 3 pixels up.\n",
    "        3. For the given operations, perform Relu, leaky Relu, sigmoid or tanh.\n",
    "            - If 0, Relu\n",
    "            - If 1, leaky Relu\n",
    "            - If 2, sigmoid\n",
    "            - If 3, tanh\n",
    "        4. For the given processed kernal, store the output in the correspondent location of the    final kernal.\n",
    " "
   ]
  },
  {
   "cell_type": "markdown",
   "metadata": {},
   "source": [
    "## Given 3 images and 12 = 3*4 kernals, each image has 4 kernals. Produces 4 outputs for "
   ]
  },
  {
   "cell_type": "code",
   "execution_count": 61,
   "metadata": {},
   "outputs": [],
   "source": [
    "import numpy as np\n",
    "import random as rd\n",
    "# Setting up global variables\n",
    "NUM_OF_IMG      = 3\n",
    "NUM_OF_KERNALS  = 4\n",
    "IMG_SIZE        = 4\n",
    "KERNAL_SIZE     = 3\n",
    "PADDED_IMG_SIZE = 6\n",
    "OUTPUT_IMG_SIZE = 8\n",
    "\n",
    "#Randomly generating imgs and kernals\n",
    "rd.seed(123)\n",
    "\n",
    "imgs    = [np.array([[rd.randint(0,5) for i in range(IMG_SIZE)] for j in range(IMG_SIZE)], \\\n",
    "    dtype=object) for _ in range(NUM_OF_IMG)]\n",
    "\n",
    "kernals = []\n",
    "for _ in range(NUM_OF_IMG):\n",
    "    kernals.append([np.array([[rd.randint(0,5) for i in range(KERNAL_SIZE)] for j in range(KERNAL_SIZE)], \\\n",
    "        dtype=object) for _ in range(NUM_OF_KERNALS)])\n"
   ]
  },
  {
   "cell_type": "code",
   "execution_count": 62,
   "metadata": {},
   "outputs": [
    {
     "data": {
      "text/plain": [
       "[array([[0, 2, 0, 3],\n",
       "        [2, 0, 0, 3],\n",
       "        [4, 4, 2, 2],\n",
       "        [0, 1, 1, 2]], dtype=object),\n",
       " array([[4, 2, 5, 1],\n",
       "        [1, 0, 3, 0],\n",
       "        [4, 3, 0, 0],\n",
       "        [2, 5, 3, 0]], dtype=object),\n",
       " array([[0, 0, 5, 1],\n",
       "        [1, 0, 2, 3],\n",
       "        [4, 3, 2, 3],\n",
       "        [0, 2, 2, 4]], dtype=object)]"
      ]
     },
     "execution_count": 62,
     "metadata": {},
     "output_type": "execute_result"
    }
   ],
   "source": [
    "imgs"
   ]
  },
  {
   "cell_type": "code",
   "execution_count": 63,
   "metadata": {},
   "outputs": [
    {
     "data": {
      "text/plain": [
       "[array([[3, 1, 4],\n",
       "        [5, 4, 4],\n",
       "        [2, 0, 3]], dtype=object),\n",
       " array([[5, 4, 3],\n",
       "        [5, 4, 5],\n",
       "        [5, 4, 3]], dtype=object),\n",
       " array([[4, 5, 3],\n",
       "        [2, 4, 0],\n",
       "        [5, 1, 5]], dtype=object),\n",
       " array([[0, 3, 5],\n",
       "        [2, 1, 2],\n",
       "        [2, 4, 3]], dtype=object)]"
      ]
     },
     "execution_count": 63,
     "metadata": {},
     "output_type": "execute_result"
    }
   ],
   "source": [
    "kernals[0]"
   ]
  },
  {
   "cell_type": "markdown",
   "metadata": {},
   "source": [
    "## Reading the image, according to OPs store it into 6x6 matrix"
   ]
  },
  {
   "cell_type": "code",
   "execution_count": 64,
   "metadata": {},
   "outputs": [
    {
     "data": {
      "text/plain": [
       "array([[0., 0., 2., 0., 3., 3.],\n",
       "       [0., 0., 2., 0., 3., 3.],\n",
       "       [2., 2., 0., 0., 3., 3.],\n",
       "       [4., 4., 4., 2., 2., 2.],\n",
       "       [0., 0., 1., 1., 2., 2.],\n",
       "       [0., 0., 1., 1., 2., 2.]])"
      ]
     },
     "execution_count": 64,
     "metadata": {},
     "output_type": "execute_result"
    }
   ],
   "source": [
    "input_img = imgs[0]\n",
    "padded_img = np.zeros((PADDED_IMG_SIZE,PADDED_IMG_SIZE))\n",
    "\n",
    "ops = ['relu_replicate','leaky_relu_replicate','sigmoid_zero_pad','tanh_zero_pad']\n",
    "operation = ops[0]\n",
    "\n",
    "if operation == 'relu_replicate' or operation == 'leaky_relu_replicate':\n",
    "    # Boundaries\n",
    "    # Rows\n",
    "    for i in range(IMG_SIZE):\n",
    "        for j in range(IMG_SIZE):\n",
    "            pixel = input_img[i][j]\n",
    "            # 4 corners\n",
    "            if i == 0 and j == 0:\n",
    "                padded_img[0][0] = pixel\n",
    "                padded_img[0][1] = pixel\n",
    "                padded_img[1][0] = pixel\n",
    "                padded_img[1][1] = pixel\n",
    "            elif i == 0 and j == IMG_SIZE-1:\n",
    "                padded_img[1][4] = pixel\n",
    "                padded_img[1][5] = pixel\n",
    "                padded_img[0][4] = pixel\n",
    "                padded_img[0][5] = pixel\n",
    "            elif i == IMG_SIZE -1 and j == 0:\n",
    "                padded_img[4][1] = pixel\n",
    "                padded_img[4][0] = pixel\n",
    "                padded_img[5][0] = pixel\n",
    "                padded_img[5][1] = pixel\n",
    "            elif i == IMG_SIZE -1 and j == IMG_SIZE-1:\n",
    "                padded_img[4][4] = pixel\n",
    "                padded_img[4][5] = pixel\n",
    "                padded_img[5][4] = pixel\n",
    "                padded_img[5][5] = pixel\n",
    "            elif i == 0:\n",
    "                padded_img[0][j+1] = pixel\n",
    "                padded_img[1][j+1] = pixel\n",
    "            elif j == 0:\n",
    "                padded_img[i+1][0] = pixel\n",
    "                padded_img[i+1][1] = pixel\n",
    "            elif i == IMG_SIZE -1:\n",
    "                padded_img[4][j+1] = pixel\n",
    "                padded_img[5][j+1] = pixel\n",
    "            elif j == IMG_SIZE -1:\n",
    "                padded_img[i+1][4] = pixel\n",
    "                padded_img[i+1][5] = pixel\n",
    "            else:\n",
    "                padded_img[i+1][j+1] = pixel \n",
    "    \n",
    "elif operation == 'sigmoid_zero_pad' or operation == 'tanh_zero_pad':\n",
    "     for i in range(IMG_SIZE):\n",
    "        for j in range(IMG_SIZE):\n",
    "            padded_img[i+1][j+1] = input_img[i][j]\n",
    "\n",
    "\n",
    "padded_img\n",
    "    "
   ]
  },
  {
   "cell_type": "code",
   "execution_count": 65,
   "metadata": {},
   "outputs": [
    {
     "data": {
      "text/plain": [
       "array([[0, 2, 0, 3],\n",
       "       [2, 0, 0, 3],\n",
       "       [4, 4, 2, 2],\n",
       "       [0, 1, 1, 2]], dtype=object)"
      ]
     },
     "execution_count": 65,
     "metadata": {},
     "output_type": "execute_result"
    }
   ],
   "source": [
    "input_img"
   ]
  },
  {
   "cell_type": "code",
   "execution_count": 66,
   "metadata": {},
   "outputs": [
    {
     "data": {
      "text/plain": [
       "array([[0., 0., 2., 0., 3., 3.],\n",
       "       [0., 0., 2., 0., 3., 3.],\n",
       "       [2., 2., 0., 0., 3., 3.],\n",
       "       [4., 4., 4., 2., 2., 2.],\n",
       "       [0., 0., 1., 1., 2., 2.],\n",
       "       [0., 0., 1., 1., 2., 2.]])"
      ]
     },
     "execution_count": 66,
     "metadata": {},
     "output_type": "execute_result"
    }
   ],
   "source": [
    "padded_img"
   ]
  },
  {
   "cell_type": "code",
   "execution_count": 67,
   "metadata": {},
   "outputs": [],
   "source": [
    "def padding(input_img,operation):\n",
    "    padded_img = np.zeros((PADDED_IMG_SIZE,PADDED_IMG_SIZE))\n",
    "\n",
    "    if operation == 'relu_replicate' or operation == 'leaky_relu_replicate':\n",
    "    # Boundaries\n",
    "    # Rows\n",
    "        for i in range(IMG_SIZE):\n",
    "            for j in range(IMG_SIZE):\n",
    "                pixel = input_img[i][j]\n",
    "                # 4 corners\n",
    "                if i == 0 and j == 0:\n",
    "                    padded_img[0][0] = pixel\n",
    "                    padded_img[0][1] = pixel\n",
    "                    padded_img[1][0] = pixel\n",
    "                    padded_img[1][1] = pixel\n",
    "                elif i == 0 and j == IMG_SIZE-1:\n",
    "                    padded_img[1][4] = pixel\n",
    "                    padded_img[1][5] = pixel\n",
    "                    padded_img[0][4] = pixel\n",
    "                    padded_img[0][5] = pixel\n",
    "                elif i == IMG_SIZE -1 and j == 0:\n",
    "                    padded_img[4][1] = pixel\n",
    "                    padded_img[4][0] = pixel\n",
    "                    padded_img[5][0] = pixel\n",
    "                    padded_img[5][1] = pixel\n",
    "                elif i == IMG_SIZE -1 and j == IMG_SIZE-1:\n",
    "                    padded_img[4][4] = pixel\n",
    "                    padded_img[4][5] = pixel\n",
    "                    padded_img[5][4] = pixel\n",
    "                    padded_img[5][5] = pixel\n",
    "                elif i == 0:\n",
    "                    padded_img[0][j+1] = pixel\n",
    "                    padded_img[1][j+1] = pixel\n",
    "                elif j == 0:\n",
    "                    padded_img[i+1][0] = pixel\n",
    "                    padded_img[i+1][1] = pixel\n",
    "                elif i == IMG_SIZE -1:\n",
    "                    padded_img[4][j+1] = pixel\n",
    "                    padded_img[5][j+1] = pixel\n",
    "                elif j == IMG_SIZE -1:\n",
    "                    padded_img[i+1][4] = pixel\n",
    "                    padded_img[i+1][5] = pixel\n",
    "                else:\n",
    "                    padded_img[i+1][j+1] = pixel \n",
    "    \n",
    "    elif operation == 'sigmoid_zero_pad' or operation == 'tanh_zero_pad':\n",
    "         for i in range(IMG_SIZE):\n",
    "            for j in range(IMG_SIZE):\n",
    "                padded_img[i+1][j+1] = input_img[i][j]\n",
    "    \n",
    "    return padded_img\n"
   ]
  },
  {
   "cell_type": "markdown",
   "metadata": {},
   "source": [
    "## Process and store every padded img"
   ]
  },
  {
   "cell_type": "code",
   "execution_count": 68,
   "metadata": {},
   "outputs": [],
   "source": [
    "padded_img = padding(input_img,operation)"
   ]
  },
  {
   "cell_type": "code",
   "execution_count": 69,
   "metadata": {},
   "outputs": [
    {
     "data": {
      "text/plain": [
       "array([[0, 2, 0, 3],\n",
       "       [2, 0, 0, 3],\n",
       "       [4, 4, 2, 2],\n",
       "       [0, 1, 1, 2]], dtype=object)"
      ]
     },
     "execution_count": 69,
     "metadata": {},
     "output_type": "execute_result"
    }
   ],
   "source": [
    "input_img"
   ]
  },
  {
   "cell_type": "code",
   "execution_count": 70,
   "metadata": {},
   "outputs": [
    {
     "data": {
      "text/plain": [
       "array([[0., 0., 2., 0., 3., 3.],\n",
       "       [0., 0., 2., 0., 3., 3.],\n",
       "       [2., 2., 0., 0., 3., 3.],\n",
       "       [4., 4., 4., 2., 2., 2.],\n",
       "       [0., 0., 1., 1., 2., 2.],\n",
       "       [0., 0., 1., 1., 2., 2.]])"
      ]
     },
     "execution_count": 70,
     "metadata": {},
     "output_type": "execute_result"
    }
   ],
   "source": [
    "padded_img"
   ]
  },
  {
   "cell_type": "code",
   "execution_count": 71,
   "metadata": {},
   "outputs": [
    {
     "data": {
      "text/plain": [
       "array([[0, 2, 0, 3],\n",
       "       [2, 0, 0, 3],\n",
       "       [4, 4, 2, 2],\n",
       "       [0, 1, 1, 2]], dtype=object)"
      ]
     },
     "execution_count": 71,
     "metadata": {},
     "output_type": "execute_result"
    }
   ],
   "source": [
    "imgs[0]"
   ]
  },
  {
   "cell_type": "code",
   "execution_count": 72,
   "metadata": {},
   "outputs": [],
   "source": [
    "for idx,img in enumerate(imgs):\n",
    "    imgs[idx] = padding(img,operation)"
   ]
  },
  {
   "cell_type": "code",
   "execution_count": 73,
   "metadata": {},
   "outputs": [
    {
     "data": {
      "text/plain": [
       "(array([[0., 0., 2., 0., 3., 3.],\n",
       "        [0., 0., 2., 0., 3., 3.],\n",
       "        [2., 2., 0., 0., 3., 3.],\n",
       "        [4., 4., 4., 2., 2., 2.],\n",
       "        [0., 0., 1., 1., 2., 2.],\n",
       "        [0., 0., 1., 1., 2., 2.]]),\n",
       " array([[4., 4., 2., 5., 1., 1.],\n",
       "        [4., 4., 2., 5., 1., 1.],\n",
       "        [1., 1., 0., 3., 0., 0.],\n",
       "        [4., 4., 3., 0., 0., 0.],\n",
       "        [2., 2., 5., 3., 0., 0.],\n",
       "        [2., 2., 5., 3., 0., 0.]]))"
      ]
     },
     "execution_count": 73,
     "metadata": {},
     "output_type": "execute_result"
    }
   ],
   "source": [
    "imgs[0],imgs[1]"
   ]
  },
  {
   "cell_type": "markdown",
   "metadata": {},
   "source": [
    "2. For every kernals of each image. \n",
    "    - For every possible windows in these 3 images.\n",
    "        1. Generate their correspondent 3 kernal processed pixels.\n",
    "        2. Sum these 3 pixels up.\n",
    "        3. For the given operations, perform Relu, leaky Relu, sigmoid or tanh.\n",
    "            - If 0, Relu\n",
    "            - If 1, leaky Relu\n",
    "            - If 2, sigmoid\n",
    "            - If 3, tanh\n",
    "        4. For the given processed kernal, store the output in the correspondent location of the    final kernal."
   ]
  },
  {
   "cell_type": "code",
   "execution_count": null,
   "metadata": {},
   "outputs": [],
   "source": [
    "for kernal in kernals:\n",
    "    img0 = imgs[0]\n",
    "    img1 = imgs[1]\n",
    "    img2 = imgs[2]        "
   ]
  }
 ],
 "metadata": {
  "kernelspec": {
   "display_name": "base",
   "language": "python",
   "name": "python3"
  },
  "language_info": {
   "codemirror_mode": {
    "name": "ipython",
    "version": 3
   },
   "file_extension": ".py",
   "mimetype": "text/x-python",
   "name": "python",
   "nbconvert_exporter": "python",
   "pygments_lexer": "ipython3",
   "version": "3.9.12"
  },
  "orig_nbformat": 4
 },
 "nbformat": 4,
 "nbformat_minor": 2
}
