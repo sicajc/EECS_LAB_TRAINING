{
 "cells": [
  {
   "cell_type": "code",
   "execution_count": 53,
   "metadata": {},
   "outputs": [
    {
     "data": {
      "text/plain": [
       "[[1, 1, -2, -2], [2, 2, 3, -1], [3, 5, 8, 5], [5, 6, 3, 2]]"
      ]
     },
     "execution_count": 53,
     "metadata": {},
     "output_type": "execute_result"
    }
   ],
   "source": [
    "IMAGE_SIZE = 4\n",
    "STRIDE = 1\n",
    "KERNAL_SIZE = 3\n",
    "PADDED_SIZE = IMAGE_SIZE + 2\n",
    "\n",
    "# Padding -> Convolution -> Activation -> Pixel Shuffling\n",
    "# Example KERNAL\n",
    "kernal = [[1,6,0],[-1,2,4],[2,3,5]]\n",
    "img    = [[1,1,-2,-2],[2,2,3,-1],[3,5,8,5],[5,6,3,2]]\n",
    "\n",
    "# Create a 5x5 img empty padded first\n",
    "padded_img = [ [0 for i in range(IMAGE_SIZE+2)] for j in range(IMAGE_SIZE+2)]\n",
    "\n",
    "img\n"
   ]
  },
  {
   "cell_type": "markdown",
   "metadata": {},
   "source": [
    "# Zero Pad"
   ]
  },
  {
   "cell_type": "code",
   "execution_count": 54,
   "metadata": {},
   "outputs": [
    {
     "data": {
      "text/plain": [
       "[[0, 0, 0, 0, 0, 0],\n",
       " [0, 1, 1, -2, -2, 0],\n",
       " [0, 2, 2, 3, -1, 0],\n",
       " [0, 3, 5, 8, 5, 0],\n",
       " [0, 5, 6, 3, 2, 0],\n",
       " [0, 0, 0, 0, 0, 0]]"
      ]
     },
     "execution_count": 54,
     "metadata": {},
     "output_type": "execute_result"
    }
   ],
   "source": [
    "\n",
    "# Zero-padded\n",
    "for i in range(IMAGE_SIZE):\n",
    "    for j in range(IMAGE_SIZE):\n",
    "        padded_img[i+1][j+1] = img[i][j]    \n",
    "\n",
    "padded_img\n"
   ]
  },
  {
   "cell_type": "markdown",
   "metadata": {},
   "source": [
    "# Replication"
   ]
  },
  {
   "cell_type": "code",
   "execution_count": 55,
   "metadata": {},
   "outputs": [
    {
     "data": {
      "text/plain": [
       "[[1, 1, 1, -2, -2, -2],\n",
       " [1, 1, 1, -2, -2, -2],\n",
       " [2, 2, 2, 3, -1, -1],\n",
       " [3, 3, 5, 8, 5, 5],\n",
       " [5, 5, 6, 3, 2, 2],\n",
       " [5, 5, 6, 3, 2, 2]]"
      ]
     },
     "execution_count": 55,
     "metadata": {},
     "output_type": "execute_result"
    }
   ],
   "source": [
    "# replication\n",
    "for i in range(IMAGE_SIZE):\n",
    "    for j in range(IMAGE_SIZE):\n",
    "        # Boundaries\n",
    "        if i == 0:\n",
    "            padded_img[0][j+1] = img[0][j]\n",
    "        if j == 0:\n",
    "            padded_img[i+1][0] = img[i][0]\n",
    "        if i == IMAGE_SIZE-1:\n",
    "            padded_img[IMAGE_SIZE+1][j+1] = img[IMAGE_SIZE-1][j]\n",
    "        if j == IMAGE_SIZE-1:\n",
    "            padded_img[i+1][IMAGE_SIZE+1] = img[i][IMAGE_SIZE-1]\n",
    "        \n",
    "        # Corners\n",
    "        if i == 0 and j == 0:\n",
    "            padded_img[0][0] = img[0][0]\n",
    "        if i == 0 and j == IMAGE_SIZE-1:\n",
    "            padded_img[0][IMAGE_SIZE+1] = img[0][IMAGE_SIZE-1]\n",
    "        if i == IMAGE_SIZE-1 and j == 0:\n",
    "            padded_img[IMAGE_SIZE+1][0] = img[IMAGE_SIZE-1][0]\n",
    "        if i == IMAGE_SIZE-1 and j == IMAGE_SIZE-1:\n",
    "            padded_img[IMAGE_SIZE+1][IMAGE_SIZE+1] = img[IMAGE_SIZE-1][IMAGE_SIZE-1]\n",
    "\n",
    "padded_img"
   ]
  },
  {
   "cell_type": "markdown",
   "metadata": {},
   "source": [
    "# Convolution"
   ]
  }
 ],
 "metadata": {
  "kernelspec": {
   "display_name": "base",
   "language": "python",
   "name": "python3"
  },
  "language_info": {
   "codemirror_mode": {
    "name": "ipython",
    "version": 3
   },
   "file_extension": ".py",
   "mimetype": "text/x-python",
   "name": "python",
   "nbconvert_exporter": "python",
   "pygments_lexer": "ipython3",
   "version": "3.9.12"
  },
  "orig_nbformat": 4
 },
 "nbformat": 4,
 "nbformat_minor": 2
}
