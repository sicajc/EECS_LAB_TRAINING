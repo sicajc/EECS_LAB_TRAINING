{
 "cells": [
  {
   "cell_type": "markdown",
   "metadata": {},
   "source": [
    "# Numpy for matrix generation"
   ]
  },
  {
   "cell_type": "markdown",
   "metadata": {},
   "source": [
    "## numpy is great for matrix generation and operations, lots of built in function support"
   ]
  },
  {
   "cell_type": "code",
   "execution_count": 7,
   "metadata": {},
   "outputs": [
    {
     "name": "stdout",
     "output_type": "stream",
     "text": [
      "[[1897804820 1038629451 1957105528 234961943 1902140337 1091572429\n",
      "  232005685 1837171810]\n",
      " [1398786498 2137230672 1213469494 1290389786 888688057 255993691\n",
      "  37620980 872550707]\n",
      " [984279939 1756872993 1345451953 25911588 760185495 1193343506 130463764\n",
      "  321189105]\n",
      " [1770761016 1267996208 1977628539 813227259 224496903 1121292117\n",
      "  1315523931 1014761948]\n",
      " [2093380749 1821102815 654770896 1848843349 1833202241 1924169570\n",
      "  1504552819 356862801]\n",
      " [1261991641 1158855704 2074319416 22887125 427982880 2082870071\n",
      "  1291626288 1324845109]\n",
      " [1230361850 276264956 919585052 364674045 1216364579 1925971347\n",
      "  1426304638 187785580]\n",
      " [1718958965 603915984 922301259 1337261637 1490243429 1327018078\n",
      "  1924744373 1722707884]]\n"
     ]
    }
   ],
   "source": [
    "import numpy as np\n",
    "import random as rd\n",
    "PRIME = 2**31 - 1\n",
    "size = 8\n",
    "\n",
    "matrix_c = np.array([[rd.randint(0,PRIME-1) for i in range(size)] for j in range(size)], dtype=object)\n",
    "print(matrix_c)"
   ]
  },
  {
   "cell_type": "code",
   "execution_count": 8,
   "metadata": {},
   "outputs": [],
   "source": [
    "OPERATIONS = [\"addition\"]*41 + [\"multiplication\"]*41 + [\"transpose\"]*6 + [\"mirror\"]*6 + [\"rotate\"]*6\n",
    "print(OPERATIONS)"
   ]
  },
  {
   "cell_type": "code",
   "execution_count": null,
   "metadata": {},
   "outputs": [],
   "source": []
  }
 ],
 "metadata": {
  "kernelspec": {
   "display_name": "base",
   "language": "python",
   "name": "python3"
  },
  "language_info": {
   "codemirror_mode": {
    "name": "ipython",
    "version": 3
   },
   "file_extension": ".py",
   "mimetype": "text/x-python",
   "name": "python",
   "nbconvert_exporter": "python",
   "pygments_lexer": "ipython3",
   "version": "3.9.12"
  },
  "orig_nbformat": 4
 },
 "nbformat": 4,
 "nbformat_minor": 2
}
