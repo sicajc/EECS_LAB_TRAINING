{
 "cells": [
  {
   "cell_type": "markdown",
   "metadata": {},
   "source": [
    "## Algorithm\n",
    "1. Produce an NxN array where even columns and rows are all walls.\n",
    "2. Run DFS recursive algorithm on it to generate maze"
   ]
  },
  {
   "cell_type": "code",
   "execution_count": 88,
   "metadata": {},
   "outputs": [
    {
     "data": {
      "text/plain": [
       "[[0, 0, 0, 0, 0, 0, 0],\n",
       " [0, 0, 0, 0, 0, 0, 0],\n",
       " [0, 0, 0, 0, 0, 0, 0],\n",
       " [0, 0, 0, 0, 0, 0, 0],\n",
       " [0, 0, 0, 0, 0, 0, 0],\n",
       " [0, 0, 0, 0, 0, 0, 0],\n",
       " [0, 0, 0, 0, 0, 0, 0]]"
      ]
     },
     "execution_count": 88,
     "metadata": {},
     "output_type": "execute_result"
    }
   ],
   "source": [
    "# The size of maze must be odd!\n",
    "MAZE_SIZE = 7\n",
    "maze = [[0 for i in range(MAZE_SIZE)] for j in range(MAZE_SIZE)]\n",
    "maze"
   ]
  },
  {
   "cell_type": "code",
   "execution_count": 89,
   "metadata": {},
   "outputs": [
    {
     "data": {
      "text/plain": [
       "[[0, 1, 0, 1, 0, 1, 0],\n",
       " [1, 1, 1, 1, 1, 1, 1],\n",
       " [0, 1, 0, 1, 0, 1, 0],\n",
       " [1, 1, 1, 1, 1, 1, 1],\n",
       " [0, 1, 0, 1, 0, 1, 0],\n",
       " [1, 1, 1, 1, 1, 1, 1],\n",
       " [0, 1, 0, 1, 0, 1, 0]]"
      ]
     },
     "execution_count": 89,
     "metadata": {},
     "output_type": "execute_result"
    }
   ],
   "source": [
    "for i in range(MAZE_SIZE):\n",
    "    for j in range(MAZE_SIZE):\n",
    "        for k in range(MAZE_SIZE):\n",
    "            if i == (1+2*k) or j == (1+2*k):\n",
    "                maze[i][j] = 1\n",
    "        \n",
    "maze"
   ]
  },
  {
   "cell_type": "markdown",
   "metadata": {},
   "source": [
    "## DFS recursive algorithm"
   ]
  },
  {
   "cell_type": "code",
   "execution_count": 90,
   "metadata": {},
   "outputs": [],
   "source": [
    "import random\n"
   ]
  },
  {
   "cell_type": "code",
   "execution_count": 91,
   "metadata": {},
   "outputs": [],
   "source": [
    "def dfs_recursive(src,maze,visited):\n",
    "    x,y = src\n",
    "    directions = [(0,1),(0,-1),(-1,0),(1,0)]\n",
    "    breakwall = 0\n",
    "    break_list = []\n",
    "\n",
    "    # Find the wall, must break 1 wall!\n",
    "    for dir in directions:\n",
    "        x_add , y_add = dir\n",
    "        x_new , y_new = x+x_add,y+y_add\n",
    "        if(maze[x_new][y_new] == 1 and visited[x_new][y_new] == -1):\n",
    "            break_list.append((x_new,y_new))\n",
    "            new_src = (x_new,y_new)\n",
    "            visited[x_new][y_new] = 1\n",
    "            dfs_recursive(new_src,maze,visited)\n",
    "        \n",
    "        elif(maze[x_new][y_new] == 0 and visited[x_new][y_new] == -1):\n",
    "            continue\n",
    "    \n",
    "    # Select 1 wall to break\n",
    "    wall_to_break = random.choices(breakwall)\n",
    "    x_break,y_break = wall_to_break\n",
    "    maze[x_break][y_break] = 0\n",
    "    \n"
   ]
  },
  {
   "cell_type": "code",
   "execution_count": 92,
   "metadata": {},
   "outputs": [],
   "source": [
    "def dfs_driver(MAZE_SIZE):\n",
    "    src = (1,1)\n",
    "    # Create maze\n",
    "    # The size of maze must be odd!\n",
    "    maze = [[0 for i in range(MAZE_SIZE)] for j in range(MAZE_SIZE)]\n",
    "    maze_padded = [[2 for i in range(MAZE_SIZE+2)] for j in range(MAZE_SIZE+2)]\n",
    "\n",
    "    # Generate odd-even walls in maze\n",
    "    for i in range(MAZE_SIZE):\n",
    "        for j in range(MAZE_SIZE):\n",
    "            for k in range(MAZE_SIZE):\n",
    "                if i == (1+2*k) or j == (1+2*k):\n",
    "                    maze[i][j] = 1\n",
    "    \n",
    "    # Put is into the padded maze to handle boundary condition\n",
    "    for i in range(MAZE_SIZE):\n",
    "        for j in range(MAZE_SIZE):\n",
    "            maze_padded[i+1][j+1] = maze[i][j]    \n",
    "\n",
    "    visited = [[-1 for i in range(MAZE_SIZE+2)] for j in range(MAZE_SIZE+2)]\n",
    "    for i in range(MAZE_SIZE+2):\n",
    "        for j in range(MAZE_SIZE+2):\n",
    "            if i == 0 or i == MAZE_SIZE+1 or j == 0 or j == MAZE_SIZE+1:\n",
    "                visited[i][j] = 1\n",
    "    \n",
    "    print(visited)\n",
    "\n",
    "    # Run DFS on maze\n",
    "    dfs_recursive(src,maze_padded,visited)\n",
    "\n",
    "    return maze_padded"
   ]
  },
  {
   "cell_type": "code",
   "execution_count": 93,
   "metadata": {},
   "outputs": [
    {
     "name": "stdout",
     "output_type": "stream",
     "text": [
      "[[1, 1, 1, 1, 1, 1, 1, 1, 1], [1, -1, -1, -1, -1, -1, -1, -1, 1], [1, -1, -1, -1, -1, -1, -1, -1, 1], [1, -1, -1, -1, -1, -1, -1, -1, 1], [1, -1, -1, -1, -1, -1, -1, -1, 1], [1, -1, -1, -1, -1, -1, -1, -1, 1], [1, -1, -1, -1, -1, -1, -1, -1, 1], [1, -1, -1, -1, -1, -1, -1, -1, 1], [1, 1, 1, 1, 1, 1, 1, 1, 1]]\n"
     ]
    },
    {
     "data": {
      "text/plain": [
       "[[2, 2, 2, 2, 2, 2, 2, 2, 2],\n",
       " [2, 0, 0, 0, 1, 0, 1, 0, 2],\n",
       " [2, 1, 1, 1, 1, 1, 1, 1, 2],\n",
       " [2, 0, 1, 0, 1, 0, 1, 0, 2],\n",
       " [2, 1, 1, 1, 1, 1, 1, 1, 2],\n",
       " [2, 0, 1, 0, 1, 0, 1, 0, 2],\n",
       " [2, 1, 1, 1, 1, 1, 1, 1, 2],\n",
       " [2, 0, 1, 0, 1, 0, 1, 0, 2],\n",
       " [2, 2, 2, 2, 2, 2, 2, 2, 2]]"
      ]
     },
     "execution_count": 93,
     "metadata": {},
     "output_type": "execute_result"
    }
   ],
   "source": [
    "dfs_driver(MAZE_SIZE)"
   ]
  },
  {
   "cell_type": "code",
   "execution_count": null,
   "metadata": {},
   "outputs": [],
   "source": []
  }
 ],
 "metadata": {
  "kernelspec": {
   "display_name": "Python 3",
   "language": "python",
   "name": "python3"
  },
  "language_info": {
   "codemirror_mode": {
    "name": "ipython",
    "version": 3
   },
   "file_extension": ".py",
   "mimetype": "text/x-python",
   "name": "python",
   "nbconvert_exporter": "python",
   "pygments_lexer": "ipython3",
   "version": "3.11.4"
  },
  "orig_nbformat": 4
 },
 "nbformat": 4,
 "nbformat_minor": 2
}
