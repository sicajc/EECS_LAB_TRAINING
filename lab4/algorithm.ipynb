{
 "cells": [
  {
   "cell_type": "markdown",
   "metadata": {},
   "source": [
    "## Algorithm\n",
    "1. Produce an NxN array where even columns and rows are all walls.\n",
    "2. Run DFS recursive algorithm on it to generate maze"
   ]
  },
  {
   "cell_type": "code",
   "execution_count": 97,
   "metadata": {},
   "outputs": [
    {
     "data": {
      "text/plain": [
       "[[0, 0, 0, 0, 0, 0, 0],\n",
       " [0, 0, 0, 0, 0, 0, 0],\n",
       " [0, 0, 0, 0, 0, 0, 0],\n",
       " [0, 0, 0, 0, 0, 0, 0],\n",
       " [0, 0, 0, 0, 0, 0, 0],\n",
       " [0, 0, 0, 0, 0, 0, 0],\n",
       " [0, 0, 0, 0, 0, 0, 0]]"
      ]
     },
     "execution_count": 97,
     "metadata": {},
     "output_type": "execute_result"
    }
   ],
   "source": [
    "# The size of maze must be odd!\n",
    "MAZE_SIZE = 7\n",
    "maze = [[0 for i in range(MAZE_SIZE)] for j in range(MAZE_SIZE)]\n",
    "maze"
   ]
  },
  {
   "cell_type": "code",
   "execution_count": 98,
   "metadata": {},
   "outputs": [
    {
     "data": {
      "text/plain": [
       "[[0, 1, 0, 1, 0, 1, 0],\n",
       " [1, 1, 1, 1, 1, 1, 1],\n",
       " [0, 1, 0, 1, 0, 1, 0],\n",
       " [1, 1, 1, 1, 1, 1, 1],\n",
       " [0, 1, 0, 1, 0, 1, 0],\n",
       " [1, 1, 1, 1, 1, 1, 1],\n",
       " [0, 1, 0, 1, 0, 1, 0]]"
      ]
     },
     "execution_count": 98,
     "metadata": {},
     "output_type": "execute_result"
    }
   ],
   "source": [
    "for i in range(MAZE_SIZE):\n",
    "    for j in range(MAZE_SIZE):\n",
    "        for k in range(MAZE_SIZE):\n",
    "            if i == (1+2*k) or j == (1+2*k):\n",
    "                maze[i][j] = 1\n",
    "        \n",
    "maze"
   ]
  },
  {
   "cell_type": "markdown",
   "metadata": {},
   "source": [
    "## DFS recursive algorithm"
   ]
  },
  {
   "cell_type": "code",
   "execution_count": 99,
   "metadata": {},
   "outputs": [],
   "source": [
    "import random\n"
   ]
  },
  {
   "cell_type": "code",
   "execution_count": 100,
   "metadata": {},
   "outputs": [],
   "source": [
    "def dfs_recursive(src,maze,visited):\n",
    "    x,y = src\n",
    "   \n",
    "    # Direction\n",
    "    direction = [0,1,2,3]\n",
    "    random.shuffle(direction)\n",
    "    for dir in direction:\n",
    "        if(dir == 0):\n",
    "            #north\n",
    "            if(maze[x-1][y] != 2 and visited[x-1][y] == -1):\n",
    "                visited[x-1][y] == 1\n",
    "                # break the wall\n",
    "                maze[x-1][y] = 0\n",
    "                # Jump over the broken wall\n",
    "                new_x = x-2\n",
    "                new_y = y\n",
    "                src = (new_x,new_y)\n",
    "                dfs_recursive(src,maze,visited) \n",
    "\n",
    "        elif(dir == 1):\n",
    "            #south\n",
    "            if(maze[x+1][y] != 2 and visited[x+1][y] == -1):\n",
    "                visited[x+1][y] == 1\n",
    "                # break the wall\n",
    "                maze[x+1][y] = 0\n",
    "                # Jump over the broken wall\n",
    "                new_x = x+2\n",
    "                new_y = y\n",
    "                src = (new_x,new_y)\n",
    "                dfs_recursive(src,maze,visited) \n",
    "        elif(dir == 2):\n",
    "            #east\n",
    "            if(maze[x][y+1] != 2 and visited[x][y+1] == -1):\n",
    "                visited[x][y+1] == 1\n",
    "                # break the wall\n",
    "                maze[x][y+1] = 0\n",
    "                # Jump over the broken wall\n",
    "                new_x = x\n",
    "                new_y = y+2\n",
    "                src = (new_x,new_y)\n",
    "                dfs_recursive(src,maze,visited) \n",
    "\n",
    "        elif(dir == 3):\n",
    "                #west\n",
    "            if(maze[x][y-1] != 2 and visited[x][y-1] == -1):\n",
    "                visited[x][y-1] == 1\n",
    "                # break the wall\n",
    "                maze[x][y-1] = 0\n",
    "                # Jump over the broken wall\n",
    "                new_x = x\n",
    "                new_y = y-2\n",
    "                src = (new_x,new_y)\n",
    "                dfs_recursive(src,maze,visited) \n",
    "\n"
   ]
  },
  {
   "cell_type": "code",
   "execution_count": 103,
   "metadata": {},
   "outputs": [],
   "source": [
    "def dfs_driver(MAZE_SIZE):\n",
    "    src = (1,1)\n",
    "    dst = (MAZE_SIZE,MAZE_SIZE)\n",
    "    # Create maze\n",
    "    # The size of maze must be odd!\n",
    "    maze = [[0 for i in range(MAZE_SIZE)] for j in range(MAZE_SIZE)]\n",
    "    maze_padded = [[2 for i in range(MAZE_SIZE+2)] for j in range(MAZE_SIZE+2)]\n",
    "\n",
    "    # Generate odd-even walls in maze\n",
    "    for i in range(MAZE_SIZE):\n",
    "        for j in range(MAZE_SIZE):\n",
    "            for k in range(MAZE_SIZE):\n",
    "                if i == (1+2*k) or j == (1+2*k):\n",
    "                    maze[i][j] = 1\n",
    "    \n",
    "    # Put is into the padded maze to handle boundary condition\n",
    "    for i in range(MAZE_SIZE):\n",
    "        for j in range(MAZE_SIZE):\n",
    "            maze_padded[i+1][j+1] = maze[i][j]    \n",
    "\n",
    "    visited = [[-1 for i in range(MAZE_SIZE+2)] for j in range(MAZE_SIZE+2)]\n",
    "    for i in range(MAZE_SIZE+2):\n",
    "        for j in range(MAZE_SIZE+2):\n",
    "            if i == 0 or i == MAZE_SIZE+1 or j == 0 or j == MAZE_SIZE+1:\n",
    "                visited[i][j] = 1\n",
    "    \n",
    "    print(visited)\n",
    "    \n",
    "    # Run DFS on maze\n",
    "    dfs_recursive(src,maze_padded,visited)\n",
    "\n",
    "    return maze_padded"
   ]
  },
  {
   "cell_type": "code",
   "execution_count": 104,
   "metadata": {},
   "outputs": [
    {
     "name": "stdout",
     "output_type": "stream",
     "text": [
      "[[1, 1, 1, 1, 1, 1, 1, 1, 1], [1, -1, -1, -1, -1, -1, -1, -1, 1], [1, -1, -1, -1, -1, -1, -1, -1, 1], [1, -1, -1, -1, -1, -1, -1, -1, 1], [1, -1, -1, -1, -1, -1, -1, -1, 1], [1, -1, -1, -1, -1, -1, -1, -1, 1], [1, -1, -1, -1, -1, -1, -1, -1, 1], [1, -1, -1, -1, -1, -1, -1, -1, 1], [1, 1, 1, 1, 1, 1, 1, 1, 1]]\n"
     ]
    },
    {
     "ename": "RecursionError",
     "evalue": "maximum recursion depth exceeded while calling a Python object",
     "output_type": "error",
     "traceback": [
      "\u001b[1;31m---------------------------------------------------------------------------\u001b[0m",
      "\u001b[1;31mRecursionError\u001b[0m                            Traceback (most recent call last)",
      "Cell \u001b[1;32mIn[104], line 2\u001b[0m\n\u001b[0;32m      1\u001b[0m MAZE_SIZE \u001b[39m=\u001b[39m \u001b[39m7\u001b[39m\n\u001b[1;32m----> 2\u001b[0m dfs_driver(MAZE_SIZE)\n",
      "Cell \u001b[1;32mIn[103], line 30\u001b[0m, in \u001b[0;36mdfs_driver\u001b[1;34m(MAZE_SIZE)\u001b[0m\n\u001b[0;32m     27\u001b[0m \u001b[39mprint\u001b[39m(visited)\n\u001b[0;32m     29\u001b[0m \u001b[39m# Run DFS on maze\u001b[39;00m\n\u001b[1;32m---> 30\u001b[0m dfs_recursive(src,maze_padded,visited)\n\u001b[0;32m     32\u001b[0m \u001b[39mreturn\u001b[39;00m maze_padded\n",
      "Cell \u001b[1;32mIn[100], line 30\u001b[0m, in \u001b[0;36mdfs_recursive\u001b[1;34m(src, maze, visited)\u001b[0m\n\u001b[0;32m     28\u001b[0m         new_y \u001b[39m=\u001b[39m y\n\u001b[0;32m     29\u001b[0m         src \u001b[39m=\u001b[39m (new_x,new_y)\n\u001b[1;32m---> 30\u001b[0m         dfs_recursive(src,maze,visited) \n\u001b[0;32m     31\u001b[0m \u001b[39melif\u001b[39;00m(\u001b[39mdir\u001b[39m \u001b[39m==\u001b[39m \u001b[39m2\u001b[39m):\n\u001b[0;32m     32\u001b[0m     \u001b[39m#east\u001b[39;00m\n\u001b[0;32m     33\u001b[0m     \u001b[39mif\u001b[39;00m(maze[x][y\u001b[39m+\u001b[39m\u001b[39m1\u001b[39m] \u001b[39m!=\u001b[39m \u001b[39m2\u001b[39m \u001b[39mand\u001b[39;00m visited[x][y\u001b[39m+\u001b[39m\u001b[39m1\u001b[39m] \u001b[39m==\u001b[39m \u001b[39m-\u001b[39m\u001b[39m1\u001b[39m):\n",
      "Cell \u001b[1;32mIn[100], line 41\u001b[0m, in \u001b[0;36mdfs_recursive\u001b[1;34m(src, maze, visited)\u001b[0m\n\u001b[0;32m     39\u001b[0m         new_y \u001b[39m=\u001b[39m y\u001b[39m+\u001b[39m\u001b[39m2\u001b[39m\n\u001b[0;32m     40\u001b[0m         src \u001b[39m=\u001b[39m (new_x,new_y)\n\u001b[1;32m---> 41\u001b[0m         dfs_recursive(src,maze,visited) \n\u001b[0;32m     43\u001b[0m \u001b[39melif\u001b[39;00m(\u001b[39mdir\u001b[39m \u001b[39m==\u001b[39m \u001b[39m3\u001b[39m):\n\u001b[0;32m     44\u001b[0m         \u001b[39m#west\u001b[39;00m\n\u001b[0;32m     45\u001b[0m     \u001b[39mif\u001b[39;00m(maze[x][y\u001b[39m-\u001b[39m\u001b[39m1\u001b[39m] \u001b[39m!=\u001b[39m \u001b[39m2\u001b[39m \u001b[39mand\u001b[39;00m visited[x][y\u001b[39m-\u001b[39m\u001b[39m1\u001b[39m] \u001b[39m==\u001b[39m \u001b[39m-\u001b[39m\u001b[39m1\u001b[39m):\n",
      "Cell \u001b[1;32mIn[100], line 30\u001b[0m, in \u001b[0;36mdfs_recursive\u001b[1;34m(src, maze, visited)\u001b[0m\n\u001b[0;32m     28\u001b[0m         new_y \u001b[39m=\u001b[39m y\n\u001b[0;32m     29\u001b[0m         src \u001b[39m=\u001b[39m (new_x,new_y)\n\u001b[1;32m---> 30\u001b[0m         dfs_recursive(src,maze,visited) \n\u001b[0;32m     31\u001b[0m \u001b[39melif\u001b[39;00m(\u001b[39mdir\u001b[39m \u001b[39m==\u001b[39m \u001b[39m2\u001b[39m):\n\u001b[0;32m     32\u001b[0m     \u001b[39m#east\u001b[39;00m\n\u001b[0;32m     33\u001b[0m     \u001b[39mif\u001b[39;00m(maze[x][y\u001b[39m+\u001b[39m\u001b[39m1\u001b[39m] \u001b[39m!=\u001b[39m \u001b[39m2\u001b[39m \u001b[39mand\u001b[39;00m visited[x][y\u001b[39m+\u001b[39m\u001b[39m1\u001b[39m] \u001b[39m==\u001b[39m \u001b[39m-\u001b[39m\u001b[39m1\u001b[39m):\n",
      "Cell \u001b[1;32mIn[100], line 18\u001b[0m, in \u001b[0;36mdfs_recursive\u001b[1;34m(src, maze, visited)\u001b[0m\n\u001b[0;32m     16\u001b[0m         new_y \u001b[39m=\u001b[39m y\n\u001b[0;32m     17\u001b[0m         src \u001b[39m=\u001b[39m (new_x,new_y)\n\u001b[1;32m---> 18\u001b[0m         dfs_recursive(src,maze,visited) \n\u001b[0;32m     20\u001b[0m \u001b[39melif\u001b[39;00m(\u001b[39mdir\u001b[39m \u001b[39m==\u001b[39m \u001b[39m1\u001b[39m):\n\u001b[0;32m     21\u001b[0m     \u001b[39m#south\u001b[39;00m\n\u001b[0;32m     22\u001b[0m     \u001b[39mif\u001b[39;00m(maze[x\u001b[39m+\u001b[39m\u001b[39m1\u001b[39m][y] \u001b[39m!=\u001b[39m \u001b[39m2\u001b[39m \u001b[39mand\u001b[39;00m visited[x\u001b[39m+\u001b[39m\u001b[39m1\u001b[39m][y] \u001b[39m==\u001b[39m \u001b[39m-\u001b[39m\u001b[39m1\u001b[39m):\n",
      "Cell \u001b[1;32mIn[100], line 53\u001b[0m, in \u001b[0;36mdfs_recursive\u001b[1;34m(src, maze, visited)\u001b[0m\n\u001b[0;32m     51\u001b[0m new_y \u001b[39m=\u001b[39m y\u001b[39m-\u001b[39m\u001b[39m2\u001b[39m\n\u001b[0;32m     52\u001b[0m src \u001b[39m=\u001b[39m (new_x,new_y)\n\u001b[1;32m---> 53\u001b[0m dfs_recursive(src,maze,visited)\n",
      "Cell \u001b[1;32mIn[100], line 18\u001b[0m, in \u001b[0;36mdfs_recursive\u001b[1;34m(src, maze, visited)\u001b[0m\n\u001b[0;32m     16\u001b[0m         new_y \u001b[39m=\u001b[39m y\n\u001b[0;32m     17\u001b[0m         src \u001b[39m=\u001b[39m (new_x,new_y)\n\u001b[1;32m---> 18\u001b[0m         dfs_recursive(src,maze,visited) \n\u001b[0;32m     20\u001b[0m \u001b[39melif\u001b[39;00m(\u001b[39mdir\u001b[39m \u001b[39m==\u001b[39m \u001b[39m1\u001b[39m):\n\u001b[0;32m     21\u001b[0m     \u001b[39m#south\u001b[39;00m\n\u001b[0;32m     22\u001b[0m     \u001b[39mif\u001b[39;00m(maze[x\u001b[39m+\u001b[39m\u001b[39m1\u001b[39m][y] \u001b[39m!=\u001b[39m \u001b[39m2\u001b[39m \u001b[39mand\u001b[39;00m visited[x\u001b[39m+\u001b[39m\u001b[39m1\u001b[39m][y] \u001b[39m==\u001b[39m \u001b[39m-\u001b[39m\u001b[39m1\u001b[39m):\n",
      "    \u001b[1;31m[... skipping similar frames: dfs_recursive at line 30 (1 times)]\u001b[0m\n",
      "Cell \u001b[1;32mIn[100], line 41\u001b[0m, in \u001b[0;36mdfs_recursive\u001b[1;34m(src, maze, visited)\u001b[0m\n\u001b[0;32m     39\u001b[0m         new_y \u001b[39m=\u001b[39m y\u001b[39m+\u001b[39m\u001b[39m2\u001b[39m\n\u001b[0;32m     40\u001b[0m         src \u001b[39m=\u001b[39m (new_x,new_y)\n\u001b[1;32m---> 41\u001b[0m         dfs_recursive(src,maze,visited) \n\u001b[0;32m     43\u001b[0m \u001b[39melif\u001b[39;00m(\u001b[39mdir\u001b[39m \u001b[39m==\u001b[39m \u001b[39m3\u001b[39m):\n\u001b[0;32m     44\u001b[0m         \u001b[39m#west\u001b[39;00m\n\u001b[0;32m     45\u001b[0m     \u001b[39mif\u001b[39;00m(maze[x][y\u001b[39m-\u001b[39m\u001b[39m1\u001b[39m] \u001b[39m!=\u001b[39m \u001b[39m2\u001b[39m \u001b[39mand\u001b[39;00m visited[x][y\u001b[39m-\u001b[39m\u001b[39m1\u001b[39m] \u001b[39m==\u001b[39m \u001b[39m-\u001b[39m\u001b[39m1\u001b[39m):\n",
      "Cell \u001b[1;32mIn[100], line 53\u001b[0m, in \u001b[0;36mdfs_recursive\u001b[1;34m(src, maze, visited)\u001b[0m\n\u001b[0;32m     51\u001b[0m new_y \u001b[39m=\u001b[39m y\u001b[39m-\u001b[39m\u001b[39m2\u001b[39m\n\u001b[0;32m     52\u001b[0m src \u001b[39m=\u001b[39m (new_x,new_y)\n\u001b[1;32m---> 53\u001b[0m dfs_recursive(src,maze,visited)\n",
      "    \u001b[1;31m[... skipping similar frames: dfs_recursive at line 41 (757 times), dfs_recursive at line 53 (754 times), dfs_recursive at line 30 (721 times), dfs_recursive at line 18 (720 times)]\u001b[0m\n",
      "Cell \u001b[1;32mIn[100], line 18\u001b[0m, in \u001b[0;36mdfs_recursive\u001b[1;34m(src, maze, visited)\u001b[0m\n\u001b[0;32m     16\u001b[0m         new_y \u001b[39m=\u001b[39m y\n\u001b[0;32m     17\u001b[0m         src \u001b[39m=\u001b[39m (new_x,new_y)\n\u001b[1;32m---> 18\u001b[0m         dfs_recursive(src,maze,visited) \n\u001b[0;32m     20\u001b[0m \u001b[39melif\u001b[39;00m(\u001b[39mdir\u001b[39m \u001b[39m==\u001b[39m \u001b[39m1\u001b[39m):\n\u001b[0;32m     21\u001b[0m     \u001b[39m#south\u001b[39;00m\n\u001b[0;32m     22\u001b[0m     \u001b[39mif\u001b[39;00m(maze[x\u001b[39m+\u001b[39m\u001b[39m1\u001b[39m][y] \u001b[39m!=\u001b[39m \u001b[39m2\u001b[39m \u001b[39mand\u001b[39;00m visited[x\u001b[39m+\u001b[39m\u001b[39m1\u001b[39m][y] \u001b[39m==\u001b[39m \u001b[39m-\u001b[39m\u001b[39m1\u001b[39m):\n",
      "    \u001b[1;31m[... skipping similar frames: dfs_recursive at line 53 (2 times), dfs_recursive at line 30 (1 times), dfs_recursive at line 41 (1 times)]\u001b[0m\n",
      "Cell \u001b[1;32mIn[100], line 41\u001b[0m, in \u001b[0;36mdfs_recursive\u001b[1;34m(src, maze, visited)\u001b[0m\n\u001b[0;32m     39\u001b[0m         new_y \u001b[39m=\u001b[39m y\u001b[39m+\u001b[39m\u001b[39m2\u001b[39m\n\u001b[0;32m     40\u001b[0m         src \u001b[39m=\u001b[39m (new_x,new_y)\n\u001b[1;32m---> 41\u001b[0m         dfs_recursive(src,maze,visited) \n\u001b[0;32m     43\u001b[0m \u001b[39melif\u001b[39;00m(\u001b[39mdir\u001b[39m \u001b[39m==\u001b[39m \u001b[39m3\u001b[39m):\n\u001b[0;32m     44\u001b[0m         \u001b[39m#west\u001b[39;00m\n\u001b[0;32m     45\u001b[0m     \u001b[39mif\u001b[39;00m(maze[x][y\u001b[39m-\u001b[39m\u001b[39m1\u001b[39m] \u001b[39m!=\u001b[39m \u001b[39m2\u001b[39m \u001b[39mand\u001b[39;00m visited[x][y\u001b[39m-\u001b[39m\u001b[39m1\u001b[39m] \u001b[39m==\u001b[39m \u001b[39m-\u001b[39m\u001b[39m1\u001b[39m):\n",
      "    \u001b[1;31m[... skipping similar frames: dfs_recursive at line 53 (1 times)]\u001b[0m\n",
      "Cell \u001b[1;32mIn[100], line 30\u001b[0m, in \u001b[0;36mdfs_recursive\u001b[1;34m(src, maze, visited)\u001b[0m\n\u001b[0;32m     28\u001b[0m         new_y \u001b[39m=\u001b[39m y\n\u001b[0;32m     29\u001b[0m         src \u001b[39m=\u001b[39m (new_x,new_y)\n\u001b[1;32m---> 30\u001b[0m         dfs_recursive(src,maze,visited) \n\u001b[0;32m     31\u001b[0m \u001b[39melif\u001b[39;00m(\u001b[39mdir\u001b[39m \u001b[39m==\u001b[39m \u001b[39m2\u001b[39m):\n\u001b[0;32m     32\u001b[0m     \u001b[39m#east\u001b[39;00m\n\u001b[0;32m     33\u001b[0m     \u001b[39mif\u001b[39;00m(maze[x][y\u001b[39m+\u001b[39m\u001b[39m1\u001b[39m] \u001b[39m!=\u001b[39m \u001b[39m2\u001b[39m \u001b[39mand\u001b[39;00m visited[x][y\u001b[39m+\u001b[39m\u001b[39m1\u001b[39m] \u001b[39m==\u001b[39m \u001b[39m-\u001b[39m\u001b[39m1\u001b[39m):\n",
      "Cell \u001b[1;32mIn[100], line 53\u001b[0m, in \u001b[0;36mdfs_recursive\u001b[1;34m(src, maze, visited)\u001b[0m\n\u001b[0;32m     51\u001b[0m new_y \u001b[39m=\u001b[39m y\u001b[39m-\u001b[39m\u001b[39m2\u001b[39m\n\u001b[0;32m     52\u001b[0m src \u001b[39m=\u001b[39m (new_x,new_y)\n\u001b[1;32m---> 53\u001b[0m dfs_recursive(src,maze,visited)\n",
      "Cell \u001b[1;32mIn[100], line 6\u001b[0m, in \u001b[0;36mdfs_recursive\u001b[1;34m(src, maze, visited)\u001b[0m\n\u001b[0;32m      4\u001b[0m \u001b[39m# Direction\u001b[39;00m\n\u001b[0;32m      5\u001b[0m direction \u001b[39m=\u001b[39m [\u001b[39m0\u001b[39m,\u001b[39m1\u001b[39m,\u001b[39m2\u001b[39m,\u001b[39m3\u001b[39m]\n\u001b[1;32m----> 6\u001b[0m random\u001b[39m.\u001b[39;49mshuffle(direction)\n\u001b[0;32m      7\u001b[0m \u001b[39mfor\u001b[39;00m \u001b[39mdir\u001b[39m \u001b[39min\u001b[39;00m direction:\n\u001b[0;32m      8\u001b[0m     \u001b[39mif\u001b[39;00m(\u001b[39mdir\u001b[39m \u001b[39m==\u001b[39m \u001b[39m0\u001b[39m):\n\u001b[0;32m      9\u001b[0m         \u001b[39m#north\u001b[39;00m\n",
      "File \u001b[1;32mC:\\Program Files\\WindowsApps\\PythonSoftwareFoundation.Python.3.11_3.11.1264.0_x64__qbz5n2kfra8p0\\Lib\\random.py:382\u001b[0m, in \u001b[0;36mRandom.shuffle\u001b[1;34m(self, x)\u001b[0m\n\u001b[0;32m    379\u001b[0m randbelow \u001b[39m=\u001b[39m \u001b[39mself\u001b[39m\u001b[39m.\u001b[39m_randbelow\n\u001b[0;32m    380\u001b[0m \u001b[39mfor\u001b[39;00m i \u001b[39min\u001b[39;00m \u001b[39mreversed\u001b[39m(\u001b[39mrange\u001b[39m(\u001b[39m1\u001b[39m, \u001b[39mlen\u001b[39m(x))):\n\u001b[0;32m    381\u001b[0m     \u001b[39m# pick an element in x[:i+1] with which to exchange x[i]\u001b[39;00m\n\u001b[1;32m--> 382\u001b[0m     j \u001b[39m=\u001b[39m randbelow(i \u001b[39m+\u001b[39;49m \u001b[39m1\u001b[39;49m)\n\u001b[0;32m    383\u001b[0m     x[i], x[j] \u001b[39m=\u001b[39m x[j], x[i]\n",
      "File \u001b[1;32mC:\\Program Files\\WindowsApps\\PythonSoftwareFoundation.Python.3.11_3.11.1264.0_x64__qbz5n2kfra8p0\\Lib\\random.py:239\u001b[0m, in \u001b[0;36mRandom._randbelow_with_getrandbits\u001b[1;34m(self, n)\u001b[0m\n\u001b[0;32m    236\u001b[0m \u001b[39m\"\u001b[39m\u001b[39mReturn a random int in the range [0,n).  Defined for n > 0.\u001b[39m\u001b[39m\"\u001b[39m\n\u001b[0;32m    238\u001b[0m getrandbits \u001b[39m=\u001b[39m \u001b[39mself\u001b[39m\u001b[39m.\u001b[39mgetrandbits\n\u001b[1;32m--> 239\u001b[0m k \u001b[39m=\u001b[39m n\u001b[39m.\u001b[39mbit_length()  \u001b[39m# don't use (n-1) here because n can be 1\u001b[39;00m\n\u001b[0;32m    240\u001b[0m r \u001b[39m=\u001b[39m getrandbits(k)  \u001b[39m# 0 <= r < 2**k\u001b[39;00m\n\u001b[0;32m    241\u001b[0m \u001b[39mwhile\u001b[39;00m r \u001b[39m>\u001b[39m\u001b[39m=\u001b[39m n:\n",
      "\u001b[1;31mRecursionError\u001b[0m: maximum recursion depth exceeded while calling a Python object"
     ]
    }
   ],
   "source": [
    "MAZE_SIZE = 7\n",
    "dfs_driver(MAZE_SIZE)"
   ]
  },
  {
   "cell_type": "code",
   "execution_count": null,
   "metadata": {},
   "outputs": [],
   "source": []
  }
 ],
 "metadata": {
  "kernelspec": {
   "display_name": "Python 3",
   "language": "python",
   "name": "python3"
  },
  "language_info": {
   "codemirror_mode": {
    "name": "ipython",
    "version": 3
   },
   "file_extension": ".py",
   "mimetype": "text/x-python",
   "name": "python",
   "nbconvert_exporter": "python",
   "pygments_lexer": "ipython3",
   "version": "3.11.4"
  },
  "orig_nbformat": 4
 },
 "nbformat": 4,
 "nbformat_minor": 2
}
