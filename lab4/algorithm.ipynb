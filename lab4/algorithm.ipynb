{
 "cells": [
  {
   "cell_type": "markdown",
   "metadata": {},
   "source": [
    "## Algorithm\n",
    "1. Produce an NxN array where even columns and rows are all walls.\n",
    "2. Run DFS recursive algorithm on it to generate maze"
   ]
  },
  {
   "cell_type": "code",
   "execution_count": 115,
   "metadata": {},
   "outputs": [
    {
     "data": {
      "text/plain": [
       "[[0, 0, 0, 0, 0, 0, 0],\n",
       " [0, 0, 0, 0, 0, 0, 0],\n",
       " [0, 0, 0, 0, 0, 0, 0],\n",
       " [0, 0, 0, 0, 0, 0, 0],\n",
       " [0, 0, 0, 0, 0, 0, 0],\n",
       " [0, 0, 0, 0, 0, 0, 0],\n",
       " [0, 0, 0, 0, 0, 0, 0]]"
      ]
     },
     "execution_count": 115,
     "metadata": {},
     "output_type": "execute_result"
    }
   ],
   "source": [
    "# The size of maze must be odd!\n",
    "MAZE_SIZE = 7\n",
    "maze = [[0 for i in range(MAZE_SIZE)] for j in range(MAZE_SIZE)]\n",
    "maze"
   ]
  },
  {
   "cell_type": "code",
   "execution_count": 116,
   "metadata": {},
   "outputs": [
    {
     "data": {
      "text/plain": [
       "[[0, 1, 0, 1, 0, 1, 0],\n",
       " [1, 1, 1, 1, 1, 1, 1],\n",
       " [0, 1, 0, 1, 0, 1, 0],\n",
       " [1, 1, 1, 1, 1, 1, 1],\n",
       " [0, 1, 0, 1, 0, 1, 0],\n",
       " [1, 1, 1, 1, 1, 1, 1],\n",
       " [0, 1, 0, 1, 0, 1, 0]]"
      ]
     },
     "execution_count": 116,
     "metadata": {},
     "output_type": "execute_result"
    }
   ],
   "source": [
    "for i in range(MAZE_SIZE):\n",
    "    for j in range(MAZE_SIZE):\n",
    "        for k in range(MAZE_SIZE):\n",
    "            if i == (1+2*k) or j == (1+2*k):\n",
    "                maze[i][j] = 1\n",
    "        \n",
    "maze"
   ]
  },
  {
   "cell_type": "markdown",
   "metadata": {},
   "source": [
    "## DFS recursive algorithm"
   ]
  },
  {
   "cell_type": "code",
   "execution_count": 117,
   "metadata": {},
   "outputs": [],
   "source": [
    "import random\n"
   ]
  },
  {
   "cell_type": "code",
   "execution_count": 118,
   "metadata": {},
   "outputs": [],
   "source": [
    "def dfs_recursive(src,maze,visited):\n",
    "    x,y = src\n",
    "    directions = [(0,1),(0,-1),(-1,0),(1,0)]\n",
    "    break_list = []\n",
    "\n",
    "    for dir in directions:\n",
    "        new_x , new_y = x+dir[0] , y+dir[1]\n",
    "        new_src = (new_x,new_y)\n",
    "        # If there is a way to go, recursive call on that way\n",
    "        if(maze[new_x][new_y] == 0 and visited[new_x][new_y] == -1):\n",
    "            # Mark visited\n",
    "            visited[new_x][new_y] = 1\n",
    "            dfs_recursive(new_src,maze,visited)\n",
    "            return \n",
    "        \n",
    "    # Otherwise, if there is no way to go, break the wall if they are not visited yet.\n",
    "    for dir in directions:\n",
    "        new_x , new_y = x+dir[0] , y+dir[1]\n",
    "        new_src = (new_x,new_y)\n",
    "        if(maze[new_x][new_y] == 1 and visited[new_x][new_y] == -1):\n",
    "             break_list.append((new_x,new_y))\n",
    "    \n",
    "    # Choose one direction to break\n",
    "    if break_list != []:\n",
    "        wall_to_break = random.choice(break_list)\n",
    "        x,y = wall_to_break\n",
    "        visited[x][y] = 1\n",
    "        maze[x][y] = 0\n",
    "        dfs_recursive(wall_to_break,maze,visited)\n"
   ]
  },
  {
   "cell_type": "code",
   "execution_count": 119,
   "metadata": {},
   "outputs": [],
   "source": [
    "def dfs_driver(MAZE_SIZE):\n",
    "    src = (1,1)\n",
    "    # Create maze\n",
    "    # The size of maze must be odd!\n",
    "    maze = [[0 for i in range(MAZE_SIZE)] for j in range(MAZE_SIZE)]\n",
    "    maze_padded = [[2 for i in range(MAZE_SIZE+2)] for j in range(MAZE_SIZE+2)]\n",
    "\n",
    "    # Generate odd-even walls in maze\n",
    "    for i in range(MAZE_SIZE):\n",
    "        for j in range(MAZE_SIZE):\n",
    "            for k in range(MAZE_SIZE):\n",
    "                if i == (1+2*k) or j == (1+2*k):\n",
    "                    maze[i][j] = 1\n",
    "    \n",
    "    # Put is into the padded maze to handle boundary condition\n",
    "    for i in range(MAZE_SIZE):\n",
    "        for j in range(MAZE_SIZE):\n",
    "            maze_padded[i+1][j+1] = maze[i][j]    \n",
    "\n",
    "    visited = [[-1 for i in range(MAZE_SIZE+2)] for j in range(MAZE_SIZE+2)]\n",
    "    for i in range(MAZE_SIZE+2):\n",
    "        for j in range(MAZE_SIZE+2):\n",
    "            if i == 0 or i == MAZE_SIZE+1 or j == 0 or j == MAZE_SIZE+1:\n",
    "                visited[i][j] = 1\n",
    "    \n",
    "    print(visited)\n",
    "\n",
    "    # Run DFS on maze\n",
    "    dfs_recursive(src,maze_padded,visited)\n",
    "\n",
    "    return maze_padded"
   ]
  },
  {
   "cell_type": "code",
   "execution_count": 120,
   "metadata": {},
   "outputs": [
    {
     "name": "stdout",
     "output_type": "stream",
     "text": [
      "[[1, 1, 1, 1, 1, 1, 1, 1, 1], [1, -1, -1, -1, -1, -1, -1, -1, 1], [1, -1, -1, -1, -1, -1, -1, -1, 1], [1, -1, -1, -1, -1, -1, -1, -1, 1], [1, -1, -1, -1, -1, -1, -1, -1, 1], [1, -1, -1, -1, -1, -1, -1, -1, 1], [1, -1, -1, -1, -1, -1, -1, -1, 1], [1, -1, -1, -1, -1, -1, -1, -1, 1], [1, 1, 1, 1, 1, 1, 1, 1, 1]]\n"
     ]
    },
    {
     "ename": "IndexError",
     "evalue": "Cannot choose from an empty sequence",
     "output_type": "error",
     "traceback": [
      "\u001b[1;31m---------------------------------------------------------------------------\u001b[0m",
      "\u001b[1;31mIndexError\u001b[0m                                Traceback (most recent call last)",
      "Cell \u001b[1;32mIn[120], line 1\u001b[0m\n\u001b[1;32m----> 1\u001b[0m dfs_driver(MAZE_SIZE)\n",
      "Cell \u001b[1;32mIn[119], line 29\u001b[0m, in \u001b[0;36mdfs_driver\u001b[1;34m(MAZE_SIZE)\u001b[0m\n\u001b[0;32m     26\u001b[0m \u001b[39mprint\u001b[39m(visited)\n\u001b[0;32m     28\u001b[0m \u001b[39m# Run DFS on maze\u001b[39;00m\n\u001b[1;32m---> 29\u001b[0m dfs_recursive(src,maze_padded,visited)\n\u001b[0;32m     31\u001b[0m \u001b[39mreturn\u001b[39;00m maze_padded\n",
      "Cell \u001b[1;32mIn[118], line 28\u001b[0m, in \u001b[0;36mdfs_recursive\u001b[1;34m(src, maze, visited)\u001b[0m\n\u001b[0;32m     26\u001b[0m visited[x][y] \u001b[39m=\u001b[39m \u001b[39m1\u001b[39m\n\u001b[0;32m     27\u001b[0m maze[x][y] \u001b[39m=\u001b[39m \u001b[39m0\u001b[39m\n\u001b[1;32m---> 28\u001b[0m dfs_recursive(wall_to_break,maze,visited)\n",
      "Cell \u001b[1;32mIn[118], line 13\u001b[0m, in \u001b[0;36mdfs_recursive\u001b[1;34m(src, maze, visited)\u001b[0m\n\u001b[0;32m     10\u001b[0m     \u001b[39mif\u001b[39;00m(maze[new_x][new_y] \u001b[39m==\u001b[39m \u001b[39m0\u001b[39m \u001b[39mand\u001b[39;00m visited[new_x][new_y] \u001b[39m==\u001b[39m \u001b[39m-\u001b[39m\u001b[39m1\u001b[39m):\n\u001b[0;32m     11\u001b[0m         \u001b[39m# Mark visited\u001b[39;00m\n\u001b[0;32m     12\u001b[0m         visited[new_x][new_y] \u001b[39m=\u001b[39m \u001b[39m1\u001b[39m\n\u001b[1;32m---> 13\u001b[0m         dfs_recursive(new_src,maze,visited)\n\u001b[0;32m     14\u001b[0m         \u001b[39mreturn\u001b[39;00m \n\u001b[0;32m     16\u001b[0m \u001b[39m# Otherwise, if there is no way to go, break the wall if they are not visited yet.\u001b[39;00m\n",
      "Cell \u001b[1;32mIn[118], line 28\u001b[0m, in \u001b[0;36mdfs_recursive\u001b[1;34m(src, maze, visited)\u001b[0m\n\u001b[0;32m     26\u001b[0m visited[x][y] \u001b[39m=\u001b[39m \u001b[39m1\u001b[39m\n\u001b[0;32m     27\u001b[0m maze[x][y] \u001b[39m=\u001b[39m \u001b[39m0\u001b[39m\n\u001b[1;32m---> 28\u001b[0m dfs_recursive(wall_to_break,maze,visited)\n",
      "Cell \u001b[1;32mIn[118], line 13\u001b[0m, in \u001b[0;36mdfs_recursive\u001b[1;34m(src, maze, visited)\u001b[0m\n\u001b[0;32m     10\u001b[0m     \u001b[39mif\u001b[39;00m(maze[new_x][new_y] \u001b[39m==\u001b[39m \u001b[39m0\u001b[39m \u001b[39mand\u001b[39;00m visited[new_x][new_y] \u001b[39m==\u001b[39m \u001b[39m-\u001b[39m\u001b[39m1\u001b[39m):\n\u001b[0;32m     11\u001b[0m         \u001b[39m# Mark visited\u001b[39;00m\n\u001b[0;32m     12\u001b[0m         visited[new_x][new_y] \u001b[39m=\u001b[39m \u001b[39m1\u001b[39m\n\u001b[1;32m---> 13\u001b[0m         dfs_recursive(new_src,maze,visited)\n\u001b[0;32m     14\u001b[0m         \u001b[39mreturn\u001b[39;00m \n\u001b[0;32m     16\u001b[0m \u001b[39m# Otherwise, if there is no way to go, break the wall if they are not visited yet.\u001b[39;00m\n",
      "    \u001b[1;31m[... skipping similar frames: dfs_recursive at line 28 (10 times), dfs_recursive at line 13 (8 times)]\u001b[0m\n",
      "Cell \u001b[1;32mIn[118], line 28\u001b[0m, in \u001b[0;36mdfs_recursive\u001b[1;34m(src, maze, visited)\u001b[0m\n\u001b[0;32m     26\u001b[0m visited[x][y] \u001b[39m=\u001b[39m \u001b[39m1\u001b[39m\n\u001b[0;32m     27\u001b[0m maze[x][y] \u001b[39m=\u001b[39m \u001b[39m0\u001b[39m\n\u001b[1;32m---> 28\u001b[0m dfs_recursive(wall_to_break,maze,visited)\n",
      "Cell \u001b[1;32mIn[118], line 13\u001b[0m, in \u001b[0;36mdfs_recursive\u001b[1;34m(src, maze, visited)\u001b[0m\n\u001b[0;32m     10\u001b[0m     \u001b[39mif\u001b[39;00m(maze[new_x][new_y] \u001b[39m==\u001b[39m \u001b[39m0\u001b[39m \u001b[39mand\u001b[39;00m visited[new_x][new_y] \u001b[39m==\u001b[39m \u001b[39m-\u001b[39m\u001b[39m1\u001b[39m):\n\u001b[0;32m     11\u001b[0m         \u001b[39m# Mark visited\u001b[39;00m\n\u001b[0;32m     12\u001b[0m         visited[new_x][new_y] \u001b[39m=\u001b[39m \u001b[39m1\u001b[39m\n\u001b[1;32m---> 13\u001b[0m         dfs_recursive(new_src,maze,visited)\n\u001b[0;32m     14\u001b[0m         \u001b[39mreturn\u001b[39;00m \n\u001b[0;32m     16\u001b[0m \u001b[39m# Otherwise, if there is no way to go, break the wall if they are not visited yet.\u001b[39;00m\n",
      "Cell \u001b[1;32mIn[118], line 24\u001b[0m, in \u001b[0;36mdfs_recursive\u001b[1;34m(src, maze, visited)\u001b[0m\n\u001b[0;32m     21\u001b[0m          break_list\u001b[39m.\u001b[39mappend((new_x,new_y))\n\u001b[0;32m     23\u001b[0m \u001b[39m# Choose one direction to break\u001b[39;00m\n\u001b[1;32m---> 24\u001b[0m wall_to_break \u001b[39m=\u001b[39m random\u001b[39m.\u001b[39;49mchoice(break_list)\n\u001b[0;32m     25\u001b[0m x,y \u001b[39m=\u001b[39m wall_to_break\n\u001b[0;32m     26\u001b[0m visited[x][y] \u001b[39m=\u001b[39m \u001b[39m1\u001b[39m\n",
      "File \u001b[1;32mC:\\Program Files\\WindowsApps\\PythonSoftwareFoundation.Python.3.11_3.11.1264.0_x64__qbz5n2kfra8p0\\Lib\\random.py:373\u001b[0m, in \u001b[0;36mRandom.choice\u001b[1;34m(self, seq)\u001b[0m\n\u001b[0;32m    370\u001b[0m \u001b[39m# As an accommodation for NumPy, we don't use \"if not seq\"\u001b[39;00m\n\u001b[0;32m    371\u001b[0m \u001b[39m# because bool(numpy.array()) raises a ValueError.\u001b[39;00m\n\u001b[0;32m    372\u001b[0m \u001b[39mif\u001b[39;00m \u001b[39mnot\u001b[39;00m \u001b[39mlen\u001b[39m(seq):\n\u001b[1;32m--> 373\u001b[0m     \u001b[39mraise\u001b[39;00m \u001b[39mIndexError\u001b[39;00m(\u001b[39m'\u001b[39m\u001b[39mCannot choose from an empty sequence\u001b[39m\u001b[39m'\u001b[39m)\n\u001b[0;32m    374\u001b[0m \u001b[39mreturn\u001b[39;00m seq[\u001b[39mself\u001b[39m\u001b[39m.\u001b[39m_randbelow(\u001b[39mlen\u001b[39m(seq))]\n",
      "\u001b[1;31mIndexError\u001b[0m: Cannot choose from an empty sequence"
     ]
    }
   ],
   "source": [
    "dfs_driver(MAZE_SIZE)"
   ]
  },
  {
   "cell_type": "code",
   "execution_count": null,
   "metadata": {},
   "outputs": [],
   "source": []
  }
 ],
 "metadata": {
  "kernelspec": {
   "display_name": "Python 3",
   "language": "python",
   "name": "python3"
  },
  "language_info": {
   "codemirror_mode": {
    "name": "ipython",
    "version": 3
   },
   "file_extension": ".py",
   "mimetype": "text/x-python",
   "name": "python",
   "nbconvert_exporter": "python",
   "pygments_lexer": "ipython3",
   "version": "3.11.4"
  },
  "orig_nbformat": 4
 },
 "nbformat": 4,
 "nbformat_minor": 2
}
