{
 "cells": [
  {
   "cell_type": "markdown",
   "metadata": {},
   "source": [
    "## Algorithm\n",
    "1. Produce an NxN array where even columns and rows are all walls.\n",
    "2. Run DFS recursive algorithm on it to generate maze"
   ]
  },
  {
   "cell_type": "code",
   "execution_count": 213,
   "metadata": {},
   "outputs": [
    {
     "data": {
      "text/plain": [
       "[[1, 1, 1, 1, 1, 1, 1, 1, 1, 1, 1, 1, 1, 1, 1, 1, 1],\n",
       " [1, 1, 1, 1, 1, 1, 1, 1, 1, 1, 1, 1, 1, 1, 1, 1, 1],\n",
       " [1, 1, 1, 1, 1, 1, 1, 1, 1, 1, 1, 1, 1, 1, 1, 1, 1],\n",
       " [1, 1, 1, 1, 1, 1, 1, 1, 1, 1, 1, 1, 1, 1, 1, 1, 1],\n",
       " [1, 1, 1, 1, 1, 1, 1, 1, 1, 1, 1, 1, 1, 1, 1, 1, 1],\n",
       " [1, 1, 1, 1, 1, 1, 1, 1, 1, 1, 1, 1, 1, 1, 1, 1, 1],\n",
       " [1, 1, 1, 1, 1, 1, 1, 1, 1, 1, 1, 1, 1, 1, 1, 1, 1],\n",
       " [1, 1, 1, 1, 1, 1, 1, 1, 1, 1, 1, 1, 1, 1, 1, 1, 1],\n",
       " [1, 1, 1, 1, 1, 1, 1, 1, 1, 1, 1, 1, 1, 1, 1, 1, 1],\n",
       " [1, 1, 1, 1, 1, 1, 1, 1, 1, 1, 1, 1, 1, 1, 1, 1, 1],\n",
       " [1, 1, 1, 1, 1, 1, 1, 1, 1, 1, 1, 1, 1, 1, 1, 1, 1],\n",
       " [1, 1, 1, 1, 1, 1, 1, 1, 1, 1, 1, 1, 1, 1, 1, 1, 1],\n",
       " [1, 1, 1, 1, 1, 1, 1, 1, 1, 1, 1, 1, 1, 1, 1, 1, 1],\n",
       " [1, 1, 1, 1, 1, 1, 1, 1, 1, 1, 1, 1, 1, 1, 1, 1, 1],\n",
       " [1, 1, 1, 1, 1, 1, 1, 1, 1, 1, 1, 1, 1, 1, 1, 1, 1],\n",
       " [1, 1, 1, 1, 1, 1, 1, 1, 1, 1, 1, 1, 1, 1, 1, 1, 1],\n",
       " [1, 1, 1, 1, 1, 1, 1, 1, 1, 1, 1, 1, 1, 1, 1, 1, 1]]"
      ]
     },
     "execution_count": 213,
     "metadata": {},
     "output_type": "execute_result"
    }
   ],
   "source": [
    "# The size of maze must be odd!\n",
    "MAZE_SIZE = 17\n",
    "maze = [[1 for i in range(MAZE_SIZE)] for j in range(MAZE_SIZE)]\n",
    "maze"
   ]
  },
  {
   "cell_type": "code",
   "execution_count": 214,
   "metadata": {},
   "outputs": [
    {
     "data": {
      "text/plain": [
       "[[1, 0, 1, 0, 1, 0, 1, 0, 1, 0, 1, 0, 1, 0, 1, 0, 1],\n",
       " [0, 0, 0, 0, 0, 0, 0, 0, 0, 0, 0, 0, 0, 0, 0, 0, 0],\n",
       " [1, 0, 1, 0, 1, 0, 1, 0, 1, 0, 1, 0, 1, 0, 1, 0, 1],\n",
       " [0, 0, 0, 0, 0, 0, 0, 0, 0, 0, 0, 0, 0, 0, 0, 0, 0],\n",
       " [1, 0, 1, 0, 1, 0, 1, 0, 1, 0, 1, 0, 1, 0, 1, 0, 1],\n",
       " [0, 0, 0, 0, 0, 0, 0, 0, 0, 0, 0, 0, 0, 0, 0, 0, 0],\n",
       " [1, 0, 1, 0, 1, 0, 1, 0, 1, 0, 1, 0, 1, 0, 1, 0, 1],\n",
       " [0, 0, 0, 0, 0, 0, 0, 0, 0, 0, 0, 0, 0, 0, 0, 0, 0],\n",
       " [1, 0, 1, 0, 1, 0, 1, 0, 1, 0, 1, 0, 1, 0, 1, 0, 1],\n",
       " [0, 0, 0, 0, 0, 0, 0, 0, 0, 0, 0, 0, 0, 0, 0, 0, 0],\n",
       " [1, 0, 1, 0, 1, 0, 1, 0, 1, 0, 1, 0, 1, 0, 1, 0, 1],\n",
       " [0, 0, 0, 0, 0, 0, 0, 0, 0, 0, 0, 0, 0, 0, 0, 0, 0],\n",
       " [1, 0, 1, 0, 1, 0, 1, 0, 1, 0, 1, 0, 1, 0, 1, 0, 1],\n",
       " [0, 0, 0, 0, 0, 0, 0, 0, 0, 0, 0, 0, 0, 0, 0, 0, 0],\n",
       " [1, 0, 1, 0, 1, 0, 1, 0, 1, 0, 1, 0, 1, 0, 1, 0, 1],\n",
       " [0, 0, 0, 0, 0, 0, 0, 0, 0, 0, 0, 0, 0, 0, 0, 0, 0],\n",
       " [1, 0, 1, 0, 1, 0, 1, 0, 1, 0, 1, 0, 1, 0, 1, 0, 1]]"
      ]
     },
     "execution_count": 214,
     "metadata": {},
     "output_type": "execute_result"
    }
   ],
   "source": [
    "for i in range(MAZE_SIZE):\n",
    "    for j in range(MAZE_SIZE):\n",
    "        for k in range(MAZE_SIZE):\n",
    "            if i == (1+2*k) or j == (1+2*k):\n",
    "                maze[i][j] = 0\n",
    "        \n",
    "maze"
   ]
  },
  {
   "cell_type": "markdown",
   "metadata": {},
   "source": [
    "## DFS recursive algorithm"
   ]
  },
  {
   "cell_type": "code",
   "execution_count": 215,
   "metadata": {},
   "outputs": [],
   "source": [
    "import random\n",
    "random.seed(12345)\n"
   ]
  },
  {
   "cell_type": "code",
   "execution_count": 216,
   "metadata": {},
   "outputs": [],
   "source": [
    "\n",
    "def dfs_recursive(src,maze,visited):\n",
    "    y,x = src\n",
    "    \n",
    "    # Mark this node as visited\n",
    "    visited[y][x] = 1\n",
    "   \n",
    "    # Direction\n",
    "    directions = ['north','south','east','west']\n",
    "    # Random shuffle the directions\n",
    "    random.shuffle(directions)\n",
    "    # From the current node, start traversing all the possible neighbors\n",
    "    for dir in directions:\n",
    "        if(dir == 'north'):\n",
    "            # If it has not been traversed yet, visit it\n",
    "            if(visited[y-2][x] == 0):\n",
    "                # Break the wall\n",
    "                maze[y-1][x] = 1\n",
    "                src = (y-2,x)\n",
    "                # Recursive call \n",
    "                dfs_recursive(src,maze,visited)\n",
    "            \n",
    "        elif(dir == 'south'):\n",
    "            # Check if traversed or traversable?\n",
    "            # print(\"y = \",y, \"x = \",x)\n",
    "            if(visited[y+2][x] == 0):\n",
    "                # Break the wall\n",
    "                maze[y+1][x] = 1\n",
    "                src = (y+2,x)\n",
    "                # Recursive call \n",
    "                dfs_recursive(src,maze,visited)\n",
    "            \n",
    "        elif(dir == 'east'):\n",
    "            # Check if traversed or traversable?\n",
    "            if(visited[y][x+2] == 0):\n",
    "                # Break the wall\n",
    "                maze[y][x+1] = 1\n",
    "                src = (y,x+2)\n",
    "                # Recursive call \n",
    "                dfs_recursive(src,maze,visited)\n",
    "            \n",
    "        elif(dir == 'west'):\n",
    "            # Check if traversed or traversable?\n",
    "            if(visited[y][x-2] == 0):\n",
    "                # Break the wall\n",
    "                maze[y][x-1] = 1\n",
    "                src = (y,x-2)\n",
    "                # Recursive call \n",
    "                dfs_recursive(src,maze,visited)\n",
    "        \n",
    "    \n",
    "\n"
   ]
  },
  {
   "cell_type": "code",
   "execution_count": 217,
   "metadata": {},
   "outputs": [],
   "source": [
    "def dfs_driver(MAZE_SIZE):\n",
    "    src = (2,2)\n",
    "    # Create maze\n",
    "    # The size of maze must be odd!\n",
    "    maze = [[1 for i in range(MAZE_SIZE)] for j in range(MAZE_SIZE)]\n",
    "    visited = [[0 for i in range(MAZE_SIZE)] for j in range(MAZE_SIZE)]\n",
    "    maze_padded = [[1 for i in range(MAZE_SIZE+4)] for j in range(MAZE_SIZE+4)]\n",
    "    visited_padded = [[0 for i in range(MAZE_SIZE+4)] for j in range(MAZE_SIZE+4)]\n",
    "\n",
    "    # Generate odd-even walls in maze\n",
    "    for i in range(MAZE_SIZE):\n",
    "        for j in range(MAZE_SIZE):\n",
    "            for k in range(MAZE_SIZE):\n",
    "                if i == (1+2*k) or j == (1+2*k):\n",
    "                    maze[i][j] = 0\n",
    "                    visited[i][j] = 1\n",
    "    \n",
    "    \n",
    "    # Put it into the padded maze to handle boundary condition\n",
    "    for i in range(MAZE_SIZE):\n",
    "        for j in range(MAZE_SIZE):\n",
    "            maze_padded[i+2][j+2] = maze[i][j]\n",
    "            visited_padded[i+2][j+2] = visited[i][j]\n",
    "\n",
    "    \n",
    "    # Mark the boundaries as visited and mark walls as visited\n",
    "    for i in range(MAZE_SIZE+4):\n",
    "        for j in range(MAZE_SIZE+4):\n",
    "            if i == 0 or i == MAZE_SIZE+2 or j == 0 or j == MAZE_SIZE+2:\n",
    "                visited_padded[i][j] = 1\n",
    "            if i == 1 or j == 1 or i == MAZE_SIZE+3 or j == MAZE_SIZE+3:\n",
    "                visited_padded[i][j] = 1\n",
    "\n",
    "    # Run DFS on maze\n",
    "    dfs_recursive(src,maze_padded,visited_padded)\n",
    "    \n",
    "    # Extract the maze out\n",
    "    for i in range(2,MAZE_SIZE+2):\n",
    "        for j in range(2,MAZE_SIZE+2):\n",
    "            maze[i-2][j-2] = maze_padded[i][j] \n",
    "\n",
    "    return maze"
   ]
  },
  {
   "cell_type": "code",
   "execution_count": 218,
   "metadata": {},
   "outputs": [
    {
     "name": "stdout",
     "output_type": "stream",
     "text": [
      "-------------------------Generated Maze of size 17--------------------------------\n",
      "1 0 1 1 1 1 1 1 1 1 1 1 1 0 1 1 1\n",
      "1 0 1 0 0 0 0 0 0 0 1 0 1 0 1 0 1\n",
      "1 0 1 0 1 1 1 1 1 0 1 0 1 1 1 0 1\n",
      "1 0 1 0 1 0 0 0 1 0 1 0 1 0 0 0 0\n",
      "1 0 1 1 1 0 1 1 1 0 1 0 1 0 1 1 1\n",
      "1 0 0 0 0 0 0 0 0 0 1 0 0 0 1 0 1\n",
      "1 1 1 1 1 1 1 0 1 1 1 0 1 1 1 0 1\n",
      "0 0 0 0 0 0 1 0 1 0 1 0 1 0 0 0 1\n",
      "1 1 1 1 1 1 1 0 1 0 1 0 1 0 1 1 1\n",
      "1 0 0 0 0 0 0 0 1 0 0 0 1 0 1 0 0\n",
      "1 0 1 1 1 1 1 1 1 1 1 1 1 0 1 1 1\n",
      "1 0 0 0 1 0 0 0 0 0 0 0 0 0 0 0 1\n",
      "1 1 1 0 1 1 1 1 1 1 1 1 1 1 1 0 1\n",
      "0 0 1 0 0 0 0 0 0 0 0 0 0 0 0 0 1\n",
      "1 0 1 1 1 0 1 1 1 0 1 1 1 1 1 1 1\n",
      "1 0 0 0 1 0 1 0 1 0 1 0 0 0 0 0 1\n",
      "1 1 1 1 1 1 1 0 1 1 1 0 1 1 1 1 1\n"
     ]
    }
   ],
   "source": [
    "MAZE_SIZE = 17\n",
    "print(f\"-------------------------Generated Maze of size {MAZE_SIZE}--------------------------------\")\n",
    "maze = dfs_driver(MAZE_SIZE)\n",
    "\n",
    "for j in maze:\n",
    "    print(*j)"
   ]
  },
  {
   "cell_type": "markdown",
   "metadata": {},
   "source": [
    "# Solve the maze using dead-end filling algorithm"
   ]
  },
  {
   "cell_type": "markdown",
   "metadata": {},
   "source": [
    "1. Padded the maze with walls"
   ]
  },
  {
   "cell_type": "code",
   "execution_count": 219,
   "metadata": {},
   "outputs": [],
   "source": [
    "def wallPadding(maze,MAZE_SIZE):\n",
    "    maze_padded = [[0 for i in range(MAZE_SIZE+2)] for j in range(MAZE_SIZE+2)]\n",
    "\n",
    "    for i in range(MAZE_SIZE):\n",
    "            for j in range(MAZE_SIZE):\n",
    "                    maze_padded[i+1][j+1] = maze[i][j]\n",
    "    \n",
    "    return maze_padded"
   ]
  },
  {
   "cell_type": "code",
   "execution_count": 220,
   "metadata": {},
   "outputs": [],
   "source": [
    "maze_padded = wallPadding(maze,MAZE_SIZE)"
   ]
  },
  {
   "cell_type": "code",
   "execution_count": 221,
   "metadata": {},
   "outputs": [
    {
     "data": {
      "text/plain": [
       "[[0, 0, 0, 0, 0, 0, 0, 0, 0, 0, 0, 0, 0, 0, 0, 0, 0, 0, 0],\n",
       " [0, 1, 0, 1, 1, 1, 1, 1, 1, 1, 1, 1, 1, 1, 0, 1, 1, 1, 0],\n",
       " [0, 1, 0, 1, 0, 0, 0, 0, 0, 0, 0, 1, 0, 1, 0, 1, 0, 1, 0],\n",
       " [0, 1, 0, 1, 0, 1, 1, 1, 1, 1, 0, 1, 0, 1, 1, 1, 0, 1, 0],\n",
       " [0, 1, 0, 1, 0, 1, 0, 0, 0, 1, 0, 1, 0, 1, 0, 0, 0, 0, 0],\n",
       " [0, 1, 0, 1, 1, 1, 0, 1, 1, 1, 0, 1, 0, 1, 0, 1, 1, 1, 0],\n",
       " [0, 1, 0, 0, 0, 0, 0, 0, 0, 0, 0, 1, 0, 0, 0, 1, 0, 1, 0],\n",
       " [0, 1, 1, 1, 1, 1, 1, 1, 0, 1, 1, 1, 0, 1, 1, 1, 0, 1, 0],\n",
       " [0, 0, 0, 0, 0, 0, 0, 1, 0, 1, 0, 1, 0, 1, 0, 0, 0, 1, 0],\n",
       " [0, 1, 1, 1, 1, 1, 1, 1, 0, 1, 0, 1, 0, 1, 0, 1, 1, 1, 0],\n",
       " [0, 1, 0, 0, 0, 0, 0, 0, 0, 1, 0, 0, 0, 1, 0, 1, 0, 0, 0],\n",
       " [0, 1, 0, 1, 1, 1, 1, 1, 1, 1, 1, 1, 1, 1, 0, 1, 1, 1, 0],\n",
       " [0, 1, 0, 0, 0, 1, 0, 0, 0, 0, 0, 0, 0, 0, 0, 0, 0, 1, 0],\n",
       " [0, 1, 1, 1, 0, 1, 1, 1, 1, 1, 1, 1, 1, 1, 1, 1, 0, 1, 0],\n",
       " [0, 0, 0, 1, 0, 0, 0, 0, 0, 0, 0, 0, 0, 0, 0, 0, 0, 1, 0],\n",
       " [0, 1, 0, 1, 1, 1, 0, 1, 1, 1, 0, 1, 1, 1, 1, 1, 1, 1, 0],\n",
       " [0, 1, 0, 0, 0, 1, 0, 1, 0, 1, 0, 1, 0, 0, 0, 0, 0, 1, 0],\n",
       " [0, 1, 1, 1, 1, 1, 1, 1, 0, 1, 1, 1, 0, 1, 1, 1, 1, 1, 0],\n",
       " [0, 0, 0, 0, 0, 0, 0, 0, 0, 0, 0, 0, 0, 0, 0, 0, 0, 0, 0]]"
      ]
     },
     "execution_count": 221,
     "metadata": {},
     "output_type": "execute_result"
    }
   ],
   "source": [
    "maze_padded"
   ]
  },
  {
   "cell_type": "markdown",
   "metadata": {},
   "source": [
    "## Check for junctions first"
   ]
  },
  {
   "cell_type": "code",
   "execution_count": 222,
   "metadata": {},
   "outputs": [],
   "source": [
    "def isJunction(maze,y,x):\n",
    "    cnt = 0\n",
    "    # If not src or dst\n",
    "    if x == 1 and y == 1:\n",
    "        return False\n",
    "    \n",
    "    if x == MAZE_SIZE and y == MAZE_SIZE:\n",
    "        return False\n",
    "    \n",
    "    if maze[y][x] == 1:\n",
    "        # Try all directions\n",
    "        if(maze[y-1][x] == 1):\n",
    "            # north\n",
    "            cnt = cnt + 1\n",
    "        if(maze[y+1][x] == 1):\n",
    "            # south\n",
    "            cnt = cnt + 1\n",
    "        if(maze[y][x+1] == 1):\n",
    "            # east\n",
    "            cnt = cnt + 1\n",
    "        if(maze[y][x-1] == 1):\n",
    "            # west\n",
    "            cnt = cnt + 1\n",
    "    \n",
    "    if cnt >= 3:\n",
    "        # print(\"Junction is y=\",y,\"x=\",x)\n",
    "        return True\n",
    "    \n",
    "    return False"
   ]
  },
  {
   "cell_type": "markdown",
   "metadata": {},
   "source": [
    "## 2. Searching for deadends and mark junctions"
   ]
  },
  {
   "cell_type": "code",
   "execution_count": 223,
   "metadata": {},
   "outputs": [],
   "source": [
    "def SearchDeadEndsMarkJunctions(maze_padded):\n",
    "    # Search for dead ends and junctions\n",
    "    for y in range(1,MAZE_SIZE+1):\n",
    "        for x in range(1,MAZE_SIZE+1):\n",
    "            cnt = 0\n",
    "\n",
    "            # Try all directions\n",
    "            if(maze_padded[y-1][x] == 0):\n",
    "                # north\n",
    "                cnt = cnt + 1\n",
    "            if(maze_padded[y+1][x] == 0):\n",
    "                # south\n",
    "                cnt = cnt + 1\n",
    "            if(maze_padded[y][x+1] == 0):\n",
    "                # east\n",
    "                cnt = cnt + 1\n",
    "            if(maze_padded[y][x-1] == 0):\n",
    "                # west\n",
    "                cnt = cnt + 1\n",
    "\n",
    "            if cnt == 3 and maze_padded[y][x] != 0:\n",
    "                if not (x == 1 and y == 1):\n",
    "                    if not (x==MAZE_SIZE and y == MAZE_SIZE):\n",
    "                        maze_padded[y][x] = 3\n",
    "\n",
    "            if isJunction(maze_padded,y,x) == True:\n",
    "                maze_padded[y][x] = 2\n",
    "   "
   ]
  },
  {
   "cell_type": "code",
   "execution_count": 224,
   "metadata": {},
   "outputs": [],
   "source": [
    "SearchDeadEndsMarkJunctions(maze_padded)"
   ]
  },
  {
   "cell_type": "code",
   "execution_count": 225,
   "metadata": {},
   "outputs": [
    {
     "data": {
      "text/plain": [
       "[[0, 0, 0, 0, 0, 0, 0, 0, 0, 0, 0, 0, 0, 0, 0, 0, 0, 0, 0],\n",
       " [0, 1, 0, 1, 1, 1, 1, 1, 1, 1, 1, 2, 1, 1, 0, 1, 1, 1, 0],\n",
       " [0, 1, 0, 1, 0, 0, 0, 0, 0, 0, 0, 1, 0, 1, 0, 1, 0, 1, 0],\n",
       " [0, 1, 0, 1, 0, 1, 1, 1, 1, 1, 0, 1, 0, 2, 1, 1, 0, 3, 0],\n",
       " [0, 1, 0, 1, 0, 1, 0, 0, 0, 1, 0, 1, 0, 1, 0, 0, 0, 0, 0],\n",
       " [0, 1, 0, 1, 1, 1, 0, 3, 1, 1, 0, 1, 0, 3, 0, 1, 1, 1, 0],\n",
       " [0, 1, 0, 0, 0, 0, 0, 0, 0, 0, 0, 1, 0, 0, 0, 1, 0, 1, 0],\n",
       " [0, 1, 1, 1, 1, 1, 1, 1, 0, 1, 1, 2, 0, 1, 1, 1, 0, 1, 0],\n",
       " [0, 0, 0, 0, 0, 0, 0, 1, 0, 1, 0, 1, 0, 1, 0, 0, 0, 1, 0],\n",
       " [0, 1, 1, 1, 1, 1, 1, 1, 0, 1, 0, 3, 0, 1, 0, 1, 1, 1, 0],\n",
       " [0, 1, 0, 0, 0, 0, 0, 0, 0, 1, 0, 0, 0, 1, 0, 1, 0, 0, 0],\n",
       " [0, 1, 0, 3, 1, 2, 1, 1, 1, 2, 1, 1, 1, 1, 0, 1, 1, 1, 0],\n",
       " [0, 1, 0, 0, 0, 1, 0, 0, 0, 0, 0, 0, 0, 0, 0, 0, 0, 1, 0],\n",
       " [0, 1, 1, 1, 0, 1, 1, 1, 1, 1, 1, 1, 1, 1, 1, 3, 0, 1, 0],\n",
       " [0, 0, 0, 1, 0, 0, 0, 0, 0, 0, 0, 0, 0, 0, 0, 0, 0, 1, 0],\n",
       " [0, 3, 0, 1, 1, 1, 0, 1, 1, 1, 0, 1, 1, 1, 1, 1, 1, 2, 0],\n",
       " [0, 1, 0, 0, 0, 1, 0, 1, 0, 1, 0, 1, 0, 0, 0, 0, 0, 1, 0],\n",
       " [0, 1, 1, 1, 1, 2, 1, 1, 0, 1, 1, 1, 0, 3, 1, 1, 1, 1, 0],\n",
       " [0, 0, 0, 0, 0, 0, 0, 0, 0, 0, 0, 0, 0, 0, 0, 0, 0, 0, 0]]"
      ]
     },
     "execution_count": 225,
     "metadata": {},
     "output_type": "execute_result"
    }
   ],
   "source": [
    "maze_padded"
   ]
  },
  {
   "cell_type": "markdown",
   "metadata": {},
   "source": [
    "1. For each dead ends\n",
    "   1. while the current traverse node from dead end is not a junction and not being src or dst\n",
    "      1. Seek for the possible traversable node from the deadend\n",
    "      2. Update the current node"
   ]
  },
  {
   "cell_type": "markdown",
   "metadata": {},
   "source": [
    "### Note that some passages won't become parts of dead end passages until other dead ends are removed first"
   ]
  },
  {
   "cell_type": "code",
   "execution_count": 226,
   "metadata": {},
   "outputs": [],
   "source": [
    "def fillDeadEnds(maze_padded):\n",
    "    # Traversing the maze to search for deadends marked in maze\n",
    "    # For every position in the maze, check for deadends.\n",
    "    for y in range(1, MAZE_SIZE+1):\n",
    "        for x in range(1, MAZE_SIZE+1):            \n",
    "            if maze_padded[y][x] == 3:\n",
    "               if( (y!=1 or x != 1) and (y != MAZE_SIZE or x != MAZE_SIZE)):\n",
    "                    y_ptr = y\n",
    "                    x_ptr = x\n",
    "                    \n",
    "                    # Search for junctions\n",
    "                    while maze_padded[y_ptr][x_ptr] != 2:\n",
    "                        # Dont fill up the src and destination\n",
    "                        if y_ptr == 1 and x_ptr == 1:\n",
    "                            break\n",
    "                        if y_ptr == MAZE_SIZE and x_ptr == MAZE_SIZE:\n",
    "                            break\n",
    "                        \n",
    "                        # Fill the current node, including the deadend marker.\n",
    "                        maze_padded[y_ptr][x_ptr] = 0\n",
    "                        \n",
    "                        # Try directions\n",
    "                        if(maze_padded[y_ptr-1][x_ptr] == 1 or maze_padded[y_ptr-1][x_ptr] == 2):\n",
    "                            # north\n",
    "                            y_ptr = y_ptr-1\n",
    "                            x_ptr = x_ptr\n",
    "                        elif(maze_padded[y_ptr+1][x_ptr] == 1 or maze_padded[y_ptr+1][x_ptr] == 2):\n",
    "                            # south\n",
    "                            y_ptr = y_ptr+1\n",
    "                            x_ptr = x_ptr\n",
    "                        elif(maze_padded[y_ptr][x_ptr+1] == 1 or maze_padded[y_ptr][x_ptr+1] == 2):\n",
    "                            # east\n",
    "                            y_ptr = y_ptr\n",
    "                            x_ptr = x_ptr+1\n",
    "                        elif(maze_padded[y_ptr][x_ptr-1] == 1 or maze_padded[y_ptr][x_ptr-1] == 2):\n",
    "                            # west\n",
    "                            y_ptr = y_ptr\n",
    "                            x_ptr = x_ptr-1\n",
    "\n",
    "    # Remove all the junctions after filling\n",
    "    for y in range(1, MAZE_SIZE+1): \n",
    "        for x in range(1, MAZE_SIZE+1):\n",
    "            if maze_padded[y][x] == 2:\n",
    "                maze_padded[y][x] = 1\n",
    "\n",
    "    return maze_padded\n"
   ]
  },
  {
   "cell_type": "code",
   "execution_count": 227,
   "metadata": {},
   "outputs": [
    {
     "data": {
      "text/plain": [
       "[[0, 0, 0, 0, 0, 0, 0, 0, 0, 0, 0, 0, 0, 0, 0, 0, 0, 0, 0],\n",
       " [0, 1, 0, 0, 0, 0, 0, 0, 0, 0, 0, 1, 1, 1, 0, 0, 0, 0, 0],\n",
       " [0, 1, 0, 0, 0, 0, 0, 0, 0, 0, 0, 1, 0, 1, 0, 0, 0, 0, 0],\n",
       " [0, 1, 0, 0, 0, 0, 0, 0, 0, 0, 0, 1, 0, 1, 0, 0, 0, 0, 0],\n",
       " [0, 1, 0, 0, 0, 0, 0, 0, 0, 0, 0, 1, 0, 0, 0, 0, 0, 0, 0],\n",
       " [0, 1, 0, 0, 0, 0, 0, 0, 0, 0, 0, 1, 0, 0, 0, 1, 1, 1, 0],\n",
       " [0, 1, 0, 0, 0, 0, 0, 0, 0, 0, 0, 1, 0, 0, 0, 1, 0, 1, 0],\n",
       " [0, 1, 1, 1, 1, 1, 1, 1, 0, 1, 1, 1, 0, 1, 1, 1, 0, 1, 0],\n",
       " [0, 0, 0, 0, 0, 0, 0, 1, 0, 1, 0, 0, 0, 1, 0, 0, 0, 1, 0],\n",
       " [0, 1, 1, 1, 1, 1, 1, 1, 0, 1, 0, 0, 0, 1, 0, 1, 1, 1, 0],\n",
       " [0, 1, 0, 0, 0, 0, 0, 0, 0, 1, 0, 0, 0, 1, 0, 1, 0, 0, 0],\n",
       " [0, 1, 0, 0, 0, 1, 1, 1, 1, 1, 1, 1, 1, 1, 0, 1, 1, 1, 0],\n",
       " [0, 1, 0, 0, 0, 0, 0, 0, 0, 0, 0, 0, 0, 0, 0, 0, 0, 1, 0],\n",
       " [0, 1, 1, 1, 0, 0, 0, 0, 0, 0, 0, 0, 0, 0, 0, 0, 0, 1, 0],\n",
       " [0, 0, 0, 1, 0, 0, 0, 0, 0, 0, 0, 0, 0, 0, 0, 0, 0, 1, 0],\n",
       " [0, 0, 0, 1, 1, 1, 0, 1, 1, 1, 0, 1, 1, 1, 1, 1, 1, 1, 0],\n",
       " [0, 0, 0, 0, 0, 1, 0, 1, 0, 1, 0, 1, 0, 0, 0, 0, 0, 1, 0],\n",
       " [0, 0, 0, 0, 0, 1, 1, 1, 0, 1, 1, 1, 0, 0, 0, 0, 0, 1, 0],\n",
       " [0, 0, 0, 0, 0, 0, 0, 0, 0, 0, 0, 0, 0, 0, 0, 0, 0, 0, 0]]"
      ]
     },
     "execution_count": 227,
     "metadata": {},
     "output_type": "execute_result"
    }
   ],
   "source": [
    "fillDeadEnds(maze_padded)"
   ]
  },
  {
   "cell_type": "markdown",
   "metadata": {},
   "source": [
    "## Refresh the junction do deadend filling until there is no more deadend left!"
   ]
  },
  {
   "cell_type": "code",
   "execution_count": 228,
   "metadata": {},
   "outputs": [],
   "source": [
    "def thereIsDeadend(maze_padded):\n",
    "    # If there is deadend, mark it as 3\n",
    "    for y in range(1,MAZE_SIZE+1):\n",
    "        for x in range(1,MAZE_SIZE+1):\n",
    "            if maze_padded[y][x] == 3:\n",
    "                return True\n",
    "\n",
    "    return False"
   ]
  },
  {
   "cell_type": "code",
   "execution_count": 229,
   "metadata": {},
   "outputs": [
    {
     "data": {
      "text/plain": [
       "False"
      ]
     },
     "execution_count": 229,
     "metadata": {},
     "output_type": "execute_result"
    }
   ],
   "source": [
    "thereIsDeadend(maze_padded)"
   ]
  },
  {
   "cell_type": "code",
   "execution_count": 230,
   "metadata": {},
   "outputs": [
    {
     "data": {
      "text/plain": [
       "[[0, 0, 0, 0, 0, 0, 0, 0, 0, 0, 0, 0, 0, 0, 0, 0, 0, 0, 0],\n",
       " [0, 1, 0, 0, 0, 0, 0, 0, 0, 0, 0, 0, 0, 0, 0, 0, 0, 0, 0],\n",
       " [0, 1, 0, 0, 0, 0, 0, 0, 0, 0, 0, 0, 0, 0, 0, 0, 0, 0, 0],\n",
       " [0, 1, 0, 0, 0, 0, 0, 0, 0, 0, 0, 0, 0, 0, 0, 0, 0, 0, 0],\n",
       " [0, 1, 0, 0, 0, 0, 0, 0, 0, 0, 0, 0, 0, 0, 0, 0, 0, 0, 0],\n",
       " [0, 1, 0, 0, 0, 0, 0, 0, 0, 0, 0, 0, 0, 0, 0, 0, 0, 0, 0],\n",
       " [0, 1, 0, 0, 0, 0, 0, 0, 0, 0, 0, 0, 0, 0, 0, 0, 0, 0, 0],\n",
       " [0, 1, 1, 1, 1, 1, 1, 1, 0, 0, 0, 0, 0, 0, 0, 0, 0, 0, 0],\n",
       " [0, 0, 0, 0, 0, 0, 0, 1, 0, 0, 0, 0, 0, 0, 0, 0, 0, 0, 0],\n",
       " [0, 1, 1, 1, 1, 1, 1, 1, 0, 0, 0, 0, 0, 0, 0, 0, 0, 0, 0],\n",
       " [0, 1, 0, 0, 0, 0, 0, 0, 0, 0, 0, 0, 0, 0, 0, 0, 0, 0, 0],\n",
       " [0, 1, 0, 0, 0, 0, 0, 0, 0, 0, 0, 0, 0, 0, 0, 0, 0, 0, 0],\n",
       " [0, 1, 0, 0, 0, 0, 0, 0, 0, 0, 0, 0, 0, 0, 0, 0, 0, 0, 0],\n",
       " [0, 1, 1, 1, 0, 0, 0, 0, 0, 0, 0, 0, 0, 0, 0, 0, 0, 0, 0],\n",
       " [0, 0, 0, 1, 0, 0, 0, 0, 0, 0, 0, 0, 0, 0, 0, 0, 0, 0, 0],\n",
       " [0, 0, 0, 1, 1, 1, 0, 1, 1, 1, 0, 1, 1, 1, 1, 1, 1, 1, 0],\n",
       " [0, 0, 0, 0, 0, 1, 0, 1, 0, 1, 0, 1, 0, 0, 0, 0, 0, 1, 0],\n",
       " [0, 0, 0, 0, 0, 1, 1, 1, 0, 1, 1, 1, 0, 0, 0, 0, 0, 1, 0],\n",
       " [0, 0, 0, 0, 0, 0, 0, 0, 0, 0, 0, 0, 0, 0, 0, 0, 0, 0, 0]]"
      ]
     },
     "execution_count": 230,
     "metadata": {},
     "output_type": "execute_result"
    }
   ],
   "source": [
    "# Perform dead end filling algorithm\n",
    "# Must first search for Dead Ends and mark those junctions\n",
    "SearchDeadEndsMarkJunctions(maze_padded)\n",
    "\n",
    "while thereIsDeadend(maze_padded) == True:\n",
    "    fillDeadEnds(maze_padded)\n",
    "    SearchDeadEndsMarkJunctions(maze_padded)\n",
    "\n",
    "\n",
    "maze_padded"
   ]
  },
  {
   "cell_type": "code",
   "execution_count": 231,
   "metadata": {},
   "outputs": [
    {
     "data": {
      "text/plain": [
       "[[0, 0, 0, 0, 0, 0, 0, 0, 0, 0, 0, 0, 0, 0, 0, 0, 0, 0, 0],\n",
       " [0, 5, 0, 0, 0, 0, 0, 0, 0, 0, 0, 0, 0, 0, 0, 0, 0, 0, 0],\n",
       " [0, 5, 0, 0, 0, 0, 0, 0, 0, 0, 0, 0, 0, 0, 0, 0, 0, 0, 0],\n",
       " [0, 5, 0, 0, 0, 0, 0, 0, 0, 0, 0, 0, 0, 0, 0, 0, 0, 0, 0],\n",
       " [0, 5, 0, 0, 0, 0, 0, 0, 0, 0, 0, 0, 0, 0, 0, 0, 0, 0, 0],\n",
       " [0, 5, 0, 0, 0, 0, 0, 0, 0, 0, 0, 0, 0, 0, 0, 0, 0, 0, 0],\n",
       " [0, 5, 0, 0, 0, 0, 0, 0, 0, 0, 0, 0, 0, 0, 0, 0, 0, 0, 0],\n",
       " [0, 5, 5, 5, 5, 5, 5, 5, 0, 0, 0, 0, 0, 0, 0, 0, 0, 0, 0],\n",
       " [0, 0, 0, 0, 0, 0, 0, 5, 0, 0, 0, 0, 0, 0, 0, 0, 0, 0, 0],\n",
       " [0, 5, 5, 5, 5, 5, 5, 5, 0, 0, 0, 0, 0, 0, 0, 0, 0, 0, 0],\n",
       " [0, 5, 0, 0, 0, 0, 0, 0, 0, 0, 0, 0, 0, 0, 0, 0, 0, 0, 0],\n",
       " [0, 5, 0, 0, 0, 0, 0, 0, 0, 0, 0, 0, 0, 0, 0, 0, 0, 0, 0],\n",
       " [0, 5, 0, 0, 0, 0, 0, 0, 0, 0, 0, 0, 0, 0, 0, 0, 0, 0, 0],\n",
       " [0, 5, 5, 5, 0, 0, 0, 0, 0, 0, 0, 0, 0, 0, 0, 0, 0, 0, 0],\n",
       " [0, 0, 0, 5, 0, 0, 0, 0, 0, 0, 0, 0, 0, 0, 0, 0, 0, 0, 0],\n",
       " [0, 0, 0, 5, 5, 5, 0, 5, 5, 5, 0, 5, 5, 5, 5, 5, 5, 5, 0],\n",
       " [0, 0, 0, 0, 0, 5, 0, 5, 0, 5, 0, 5, 0, 0, 0, 0, 0, 5, 0],\n",
       " [0, 0, 0, 0, 0, 5, 5, 5, 0, 5, 5, 5, 0, 0, 0, 0, 0, 5, 0],\n",
       " [0, 0, 0, 0, 0, 0, 0, 0, 0, 0, 0, 0, 0, 0, 0, 0, 0, 0, 0]]"
      ]
     },
     "execution_count": 231,
     "metadata": {},
     "output_type": "execute_result"
    }
   ],
   "source": [
    "# Walk the path and record the directions\n",
    "path = []\n",
    "\n",
    "y = 1\n",
    "x = 1\n",
    "\n",
    "\n",
    "while y != MAZE_SIZE or x != MAZE_SIZE:\n",
    "    maze_padded[y][x] = 5\n",
    "\n",
    "    # Try all directions\n",
    "    if(maze_padded[y-1][x] == 1):\n",
    "        # north\n",
    "        y = y-1\n",
    "        x = x\n",
    "        path.append(3)\n",
    "    elif(maze_padded[y+1][x] == 1):\n",
    "        # south\n",
    "        y = y+1\n",
    "        x = x\n",
    "        path.append(1)\n",
    "    elif(maze_padded[y][x+1] == 1):\n",
    "        # east\n",
    "        y = y\n",
    "        x = x+1\n",
    "        path.append(0)\n",
    "    elif(maze_padded[y][x-1] == 1):\n",
    "        # west\n",
    "        y = y\n",
    "        x = x-1\n",
    "        path.append(2)\n",
    "    \n",
    "    maze_padded[y][x] = 5\n",
    "\n",
    "maze_padded"
   ]
  },
  {
   "cell_type": "code",
   "execution_count": 232,
   "metadata": {},
   "outputs": [
    {
     "name": "stdout",
     "output_type": "stream",
     "text": [
      "[1, 1, 1, 1, 1, 1, 0, 0, 0, 0, 0, 0, 1, 1, 2, 2, 2, 2, 2, 2, 1, 1, 1, 1, 0, 0, 1, 1, 0, 0, 1, 1, 0, 0, 3, 3, 0, 0, 1, 1, 0, 0, 3, 3, 0, 0, 0, 0, 0, 0, 1, 1]\n"
     ]
    }
   ],
   "source": [
    "print(path)"
   ]
  }
 ],
 "metadata": {
  "kernelspec": {
   "display_name": "Python 3",
   "language": "python",
   "name": "python3"
  },
  "language_info": {
   "codemirror_mode": {
    "name": "ipython",
    "version": 3
   },
   "file_extension": ".py",
   "mimetype": "text/x-python",
   "name": "python",
   "nbconvert_exporter": "python",
   "pygments_lexer": "ipython3",
   "version": "3.9.12"
  },
  "orig_nbformat": 4
 },
 "nbformat": 4,
 "nbformat_minor": 2
}
